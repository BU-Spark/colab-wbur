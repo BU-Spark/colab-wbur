{
 "cells": [
  {
   "cell_type": "markdown",
   "metadata": {},
   "source": [
    "# Goal of notebook + SQL Code\n",
    "\n",
    "In this notebook, we will be working with the data with the names of plaintiff and defendant. If possible, we will try to get all the names of all plantiffs and defenders then see the distribution using groupby.\\\n",
    "\n",
    "Note: We can also do groupby with SQL.\\\n",
    "\n",
    "Example of SQL code that will be useful\\\n",
    "\n",
    "SELECT col_of_interest, count(col_of_interest)\\\n",
    "FROM name_of_table\\\n",
    "GROUP BY col_of_interest"
   ]
  },
  {
   "cell_type": "markdown",
   "metadata": {},
   "source": [
    "# Import Libraries"
   ]
  },
  {
   "cell_type": "code",
   "execution_count": 165,
   "metadata": {},
   "outputs": [],
   "source": [
    "import numpy as np\n",
    "import pandas as pd\n",
    "import matplotlib.pyplot as plt\n"
   ]
  },
  {
   "cell_type": "markdown",
   "metadata": {},
   "source": [
    "# Explore Data analysis"
   ]
  },
  {
   "cell_type": "code",
   "execution_count": 166,
   "metadata": {},
   "outputs": [],
   "source": [
    "df = pd.read_csv('name_of_plantiff_defender.csv')\n"
   ]
  },
  {
   "cell_type": "markdown",
   "metadata": {},
   "source": [
    "What we have here is the defend for each example.\\\n",
    "Discover Bank is the plaintiff and Phan, Kevin T is the defendant"
   ]
  },
  {
   "cell_type": "code",
   "execution_count": 167,
   "metadata": {},
   "outputs": [
    {
     "data": {
      "text/plain": [
       "False"
      ]
     },
     "execution_count": 167,
     "metadata": {},
     "output_type": "execute_result"
    }
   ],
   "source": [
    "# first, we need to check if there are any missing data\n",
    "df.isnull().values.any()"
   ]
  },
  {
   "cell_type": "code",
   "execution_count": 168,
   "metadata": {},
   "outputs": [
    {
     "data": {
      "text/plain": [
       "Index(['post_id', 'text', 'last_indexed'], dtype='object')"
      ]
     },
     "execution_count": 168,
     "metadata": {},
     "output_type": "execute_result"
    }
   ],
   "source": [
    "df.columns"
   ]
  },
  {
   "cell_type": "code",
   "execution_count": 169,
   "metadata": {},
   "outputs": [],
   "source": [
    "df = df[['post_id', 'text']]"
   ]
  },
  {
   "cell_type": "code",
   "execution_count": 170,
   "metadata": {},
   "outputs": [
    {
     "data": {
      "text/html": [
       "<div>\n",
       "<style scoped>\n",
       "    .dataframe tbody tr th:only-of-type {\n",
       "        vertical-align: middle;\n",
       "    }\n",
       "\n",
       "    .dataframe tbody tr th {\n",
       "        vertical-align: top;\n",
       "    }\n",
       "\n",
       "    .dataframe thead th {\n",
       "        text-align: right;\n",
       "    }\n",
       "</style>\n",
       "<table border=\"1\" class=\"dataframe\">\n",
       "  <thead>\n",
       "    <tr style=\"text-align: right;\">\n",
       "      <th></th>\n",
       "      <th>post_id</th>\n",
       "      <th>text</th>\n",
       "    </tr>\n",
       "  </thead>\n",
       "  <tbody>\n",
       "    <tr>\n",
       "      <th>0</th>\n",
       "      <td>5464</td>\n",
       "      <td>Potfolio Recovery Associates, Llc vs. Irby, JR...</td>\n",
       "    </tr>\n",
       "    <tr>\n",
       "      <th>1</th>\n",
       "      <td>5469</td>\n",
       "      <td>Discover Bank vs. Phan, Kevin T |</td>\n",
       "    </tr>\n",
       "    <tr>\n",
       "      <th>2</th>\n",
       "      <td>5475</td>\n",
       "      <td>Wilcox, Clarence vs. Mobile Gas Station Owner ...</td>\n",
       "    </tr>\n",
       "    <tr>\n",
       "      <th>3</th>\n",
       "      <td>5481</td>\n",
       "      <td>Rab Performance Recoveries, Llc vs. Ware, Levi |</td>\n",
       "    </tr>\n",
       "    <tr>\n",
       "      <th>4</th>\n",
       "      <td>5487</td>\n",
       "      <td>Midland Funding, Llc v. Norman, Pamela |</td>\n",
       "    </tr>\n",
       "    <tr>\n",
       "      <th>5</th>\n",
       "      <td>5497</td>\n",
       "      <td>Hamilton, Natasha R v. Yell-O-Glow Corporation |</td>\n",
       "    </tr>\n",
       "    <tr>\n",
       "      <th>6</th>\n",
       "      <td>5505</td>\n",
       "      <td>Capital One Bank (Usa), N.A. vs. George, Devah...</td>\n",
       "    </tr>\n",
       "    <tr>\n",
       "      <th>7</th>\n",
       "      <td>5509</td>\n",
       "      <td>Capital One Bank (Usa), N.A. vs. Divino, Mai H |</td>\n",
       "    </tr>\n",
       "    <tr>\n",
       "      <th>8</th>\n",
       "      <td>5515</td>\n",
       "      <td>Clean Way Waste Services, Inc vs. Justice Cafe...</td>\n",
       "    </tr>\n",
       "    <tr>\n",
       "      <th>9</th>\n",
       "      <td>5522</td>\n",
       "      <td>Better Life Physical Therapy v. Commerce Insur...</td>\n",
       "    </tr>\n",
       "  </tbody>\n",
       "</table>\n",
       "</div>"
      ],
      "text/plain": [
       "   post_id                                               text\n",
       "0     5464  Potfolio Recovery Associates, Llc vs. Irby, JR...\n",
       "1     5469                 Discover Bank vs. Phan, Kevin T | \n",
       "2     5475  Wilcox, Clarence vs. Mobile Gas Station Owner ...\n",
       "3     5481  Rab Performance Recoveries, Llc vs. Ware, Levi | \n",
       "4     5487          Midland Funding, Llc v. Norman, Pamela | \n",
       "5     5497  Hamilton, Natasha R v. Yell-O-Glow Corporation | \n",
       "6     5505  Capital One Bank (Usa), N.A. vs. George, Devah...\n",
       "7     5509  Capital One Bank (Usa), N.A. vs. Divino, Mai H | \n",
       "8     5515  Clean Way Waste Services, Inc vs. Justice Cafe...\n",
       "9     5522  Better Life Physical Therapy v. Commerce Insur..."
      ]
     },
     "execution_count": 170,
     "metadata": {},
     "output_type": "execute_result"
    }
   ],
   "source": [
    "df.head(10)"
   ]
  },
  {
   "cell_type": "markdown",
   "metadata": {},
   "source": [
    "Before we split into two columns, plaintiff and defendant. Notice some examples are vs. or v.\\\n",
    "This is problematic since we cant split the text using the delimiter 'vs.'\\\n",
    "Because we have vs. and v. in some title. We might have to split into two dataframe then merge together.."
   ]
  },
  {
   "cell_type": "code",
   "execution_count": 171,
   "metadata": {},
   "outputs": [],
   "source": [
    "df2 = pd.DataFrame(df['text'].str.split('vs.', 1).tolist(),\n",
    "                        columns = ['plaintiff', 'defendant'])"
   ]
  },
  {
   "cell_type": "markdown",
   "metadata": {},
   "source": [
    "Notice that some defendant has None values?\\\n",
    "that means those title has 'v.' instead of 'vs.'\\\n",
    "We may need to filter out then create another dataframe."
   ]
  },
  {
   "cell_type": "code",
   "execution_count": 172,
   "metadata": {},
   "outputs": [],
   "source": [
    "# currently, those examples that didn't split well has None in defendant. We need to fillna with np.nan so pandas can filter them\n",
    "df2 = df2.fillna(value=np.nan)"
   ]
  },
  {
   "cell_type": "code",
   "execution_count": 173,
   "metadata": {},
   "outputs": [
    {
     "data": {
      "text/html": [
       "<div>\n",
       "<style scoped>\n",
       "    .dataframe tbody tr th:only-of-type {\n",
       "        vertical-align: middle;\n",
       "    }\n",
       "\n",
       "    .dataframe tbody tr th {\n",
       "        vertical-align: top;\n",
       "    }\n",
       "\n",
       "    .dataframe thead th {\n",
       "        text-align: right;\n",
       "    }\n",
       "</style>\n",
       "<table border=\"1\" class=\"dataframe\">\n",
       "  <thead>\n",
       "    <tr style=\"text-align: right;\">\n",
       "      <th></th>\n",
       "      <th>plaintiff</th>\n",
       "      <th>defendant</th>\n",
       "    </tr>\n",
       "  </thead>\n",
       "  <tbody>\n",
       "    <tr>\n",
       "      <th>0</th>\n",
       "      <td>Potfolio Recovery Associates, Llc</td>\n",
       "      <td>Irby, JR , Thomas |</td>\n",
       "    </tr>\n",
       "    <tr>\n",
       "      <th>1</th>\n",
       "      <td>Discover Bank</td>\n",
       "      <td>Phan, Kevin T |</td>\n",
       "    </tr>\n",
       "    <tr>\n",
       "      <th>2</th>\n",
       "      <td>Wilcox, Clarence</td>\n",
       "      <td>Mobile Gas Station Owner Akmal Moawed |</td>\n",
       "    </tr>\n",
       "    <tr>\n",
       "      <th>3</th>\n",
       "      <td>Rab Performance Recoveries, Llc</td>\n",
       "      <td>Ware, Levi |</td>\n",
       "    </tr>\n",
       "    <tr>\n",
       "      <th>4</th>\n",
       "      <td>Midland Funding, Llc v. Norman, Pamela |</td>\n",
       "      <td>NaN</td>\n",
       "    </tr>\n",
       "    <tr>\n",
       "      <th>...</th>\n",
       "      <td>...</td>\n",
       "      <td>...</td>\n",
       "    </tr>\n",
       "    <tr>\n",
       "      <th>1048568</th>\n",
       "      <td>First Financial Portfolio Management Inc. v. Y...</td>\n",
       "      <td>NaN</td>\n",
       "    </tr>\n",
       "    <tr>\n",
       "      <th>1048569</th>\n",
       "      <td>Attleboro Pawn Shop , Inc.</td>\n",
       "      <td>Ace Gutter Service, Inc. |</td>\n",
       "    </tr>\n",
       "    <tr>\n",
       "      <th>1048570</th>\n",
       "      <td>Eastpointe Rehab &amp; Nursing</td>\n",
       "      <td>Marino, Joan |</td>\n",
       "    </tr>\n",
       "    <tr>\n",
       "      <th>1048571</th>\n",
       "      <td>Leeway Realty Trust As officer of or agent for...</td>\n",
       "      <td>NaN</td>\n",
       "    </tr>\n",
       "    <tr>\n",
       "      <th>1048572</th>\n",
       "      <td>Cape Cod Hospital v. Commerce Insurance Compan...</td>\n",
       "      <td>NaN</td>\n",
       "    </tr>\n",
       "  </tbody>\n",
       "</table>\n",
       "<p>1048573 rows × 2 columns</p>\n",
       "</div>"
      ],
      "text/plain": [
       "                                                 plaintiff  \\\n",
       "0                       Potfolio Recovery Associates, Llc    \n",
       "1                                           Discover Bank    \n",
       "2                                        Wilcox, Clarence    \n",
       "3                         Rab Performance Recoveries, Llc    \n",
       "4                Midland Funding, Llc v. Norman, Pamela |    \n",
       "...                                                    ...   \n",
       "1048568  First Financial Portfolio Management Inc. v. Y...   \n",
       "1048569                        Attleboro Pawn Shop , Inc.    \n",
       "1048570                        Eastpointe Rehab & Nursing    \n",
       "1048571  Leeway Realty Trust As officer of or agent for...   \n",
       "1048572  Cape Cod Hospital v. Commerce Insurance Compan...   \n",
       "\n",
       "                                         defendant  \n",
       "0                             Irby, JR , Thomas |   \n",
       "1                                 Phan, Kevin T |   \n",
       "2         Mobile Gas Station Owner Akmal Moawed |   \n",
       "3                                    Ware, Levi |   \n",
       "4                                              NaN  \n",
       "...                                            ...  \n",
       "1048568                                        NaN  \n",
       "1048569                Ace Gutter Service, Inc. |   \n",
       "1048570                            Marino, Joan |   \n",
       "1048571                                        NaN  \n",
       "1048572                                        NaN  \n",
       "\n",
       "[1048573 rows x 2 columns]"
      ]
     },
     "execution_count": 173,
     "metadata": {},
     "output_type": "execute_result"
    }
   ],
   "source": [
    "df2"
   ]
  },
  {
   "cell_type": "code",
   "execution_count": 174,
   "metadata": {},
   "outputs": [
    {
     "data": {
      "text/html": [
       "<div>\n",
       "<style scoped>\n",
       "    .dataframe tbody tr th:only-of-type {\n",
       "        vertical-align: middle;\n",
       "    }\n",
       "\n",
       "    .dataframe tbody tr th {\n",
       "        vertical-align: top;\n",
       "    }\n",
       "\n",
       "    .dataframe thead th {\n",
       "        text-align: right;\n",
       "    }\n",
       "</style>\n",
       "<table border=\"1\" class=\"dataframe\">\n",
       "  <thead>\n",
       "    <tr style=\"text-align: right;\">\n",
       "      <th></th>\n",
       "      <th>plaintiff</th>\n",
       "      <th>defendant</th>\n",
       "    </tr>\n",
       "  </thead>\n",
       "  <tbody>\n",
       "    <tr>\n",
       "      <th>4</th>\n",
       "      <td>Midland Funding, Llc v. Norman, Pamela |</td>\n",
       "      <td>NaN</td>\n",
       "    </tr>\n",
       "    <tr>\n",
       "      <th>5</th>\n",
       "      <td>Hamilton, Natasha R v. Yell-O-Glow Corporation |</td>\n",
       "      <td>NaN</td>\n",
       "    </tr>\n",
       "    <tr>\n",
       "      <th>9</th>\n",
       "      <td>Better Life Physical Therapy v. Commerce Insur...</td>\n",
       "      <td>NaN</td>\n",
       "    </tr>\n",
       "    <tr>\n",
       "      <th>18</th>\n",
       "      <td>Nstar Electric Company v. Thompson, Anthony |</td>\n",
       "      <td>NaN</td>\n",
       "    </tr>\n",
       "    <tr>\n",
       "      <th>54</th>\n",
       "      <td>Rockland Trust Company v. Overbea, Adgirene |</td>\n",
       "      <td>NaN</td>\n",
       "    </tr>\n",
       "  </tbody>\n",
       "</table>\n",
       "</div>"
      ],
      "text/plain": [
       "                                            plaintiff defendant\n",
       "4           Midland Funding, Llc v. Norman, Pamela |        NaN\n",
       "5   Hamilton, Natasha R v. Yell-O-Glow Corporation |        NaN\n",
       "9   Better Life Physical Therapy v. Commerce Insur...       NaN\n",
       "18     Nstar Electric Company v. Thompson, Anthony |        NaN\n",
       "54     Rockland Trust Company v. Overbea, Adgirene |        NaN"
      ]
     },
     "execution_count": 174,
     "metadata": {},
     "output_type": "execute_result"
    }
   ],
   "source": [
    "bad_examples = df2[df2['defendant'].isnull()]\n",
    "bad_examples.head(5)"
   ]
  },
  {
   "cell_type": "markdown",
   "metadata": {},
   "source": [
    "For bad examples, we need to split it again, so we get the results we wanted!!! Notice every examples have 'v.'"
   ]
  },
  {
   "cell_type": "code",
   "execution_count": 175,
   "metadata": {},
   "outputs": [
    {
     "data": {
      "text/html": [
       "<div>\n",
       "<style scoped>\n",
       "    .dataframe tbody tr th:only-of-type {\n",
       "        vertical-align: middle;\n",
       "    }\n",
       "\n",
       "    .dataframe tbody tr th {\n",
       "        vertical-align: top;\n",
       "    }\n",
       "\n",
       "    .dataframe thead th {\n",
       "        text-align: right;\n",
       "    }\n",
       "</style>\n",
       "<table border=\"1\" class=\"dataframe\">\n",
       "  <thead>\n",
       "    <tr style=\"text-align: right;\">\n",
       "      <th></th>\n",
       "      <th>plaintiff</th>\n",
       "      <th>defendant</th>\n",
       "    </tr>\n",
       "  </thead>\n",
       "  <tbody>\n",
       "    <tr>\n",
       "      <th>0</th>\n",
       "      <td>Midland Funding, Llc</td>\n",
       "      <td>Norman, Pamela |</td>\n",
       "    </tr>\n",
       "    <tr>\n",
       "      <th>1</th>\n",
       "      <td>Hamilton, Natasha R</td>\n",
       "      <td>Yell-O-Glow Corporation |</td>\n",
       "    </tr>\n",
       "    <tr>\n",
       "      <th>2</th>\n",
       "      <td>Better Life Physical Therapy</td>\n",
       "      <td>Commerce Insurance Company |</td>\n",
       "    </tr>\n",
       "    <tr>\n",
       "      <th>3</th>\n",
       "      <td>Nstar Electric Company</td>\n",
       "      <td>Thompson, Anthony |</td>\n",
       "    </tr>\n",
       "    <tr>\n",
       "      <th>4</th>\n",
       "      <td>Rockland Trust Company</td>\n",
       "      <td>Overbea, Adgirene |</td>\n",
       "    </tr>\n",
       "  </tbody>\n",
       "</table>\n",
       "</div>"
      ],
      "text/plain": [
       "                       plaintiff                       defendant\n",
       "0          Midland Funding, Llc                Norman, Pamela | \n",
       "1           Hamilton, Natasha R       Yell-O-Glow Corporation | \n",
       "2  Better Life Physical Therapy    Commerce Insurance Company | \n",
       "3        Nstar Electric Company             Thompson, Anthony | \n",
       "4        Rockland Trust Company             Overbea, Adgirene | "
      ]
     },
     "execution_count": 175,
     "metadata": {},
     "output_type": "execute_result"
    }
   ],
   "source": [
    "df3 = pd.DataFrame(bad_examples['plaintiff'].str.split('v.', 1).tolist(),\n",
    "                        columns = ['plaintiff', 'defendant'])\n",
    "df3.head(5)"
   ]
  },
  {
   "cell_type": "code",
   "execution_count": 176,
   "metadata": {},
   "outputs": [
    {
     "name": "stderr",
     "output_type": "stream",
     "text": [
      "C:\\Users\\16178\\AppData\\Local\\Temp\\ipykernel_22288\\2244843344.py:2: FutureWarning: The default value of regex will change from True to False in a future version. In addition, single character regular expressions will *not* be treated as literal strings when regex=True.\n",
      "  df3['defendant'] = df3['defendant'].str.replace('|','')\n"
     ]
    }
   ],
   "source": [
    "# notice we have a bar above? we will get rid of the bar\n",
    "df3['defendant'] = df3['defendant'].str.replace('|','')\n"
   ]
  },
  {
   "cell_type": "code",
   "execution_count": 177,
   "metadata": {},
   "outputs": [
    {
     "data": {
      "text/plain": [
       "(748705, 2)"
      ]
     },
     "execution_count": 177,
     "metadata": {},
     "output_type": "execute_result"
    }
   ],
   "source": [
    "df3.shape"
   ]
  },
  {
   "cell_type": "markdown",
   "metadata": {},
   "source": [
    "perfect !! We able to split the results into two pieces as well. Now what's left is to merge again with the good_examples!"
   ]
  },
  {
   "cell_type": "code",
   "execution_count": 178,
   "metadata": {},
   "outputs": [
    {
     "data": {
      "text/html": [
       "<div>\n",
       "<style scoped>\n",
       "    .dataframe tbody tr th:only-of-type {\n",
       "        vertical-align: middle;\n",
       "    }\n",
       "\n",
       "    .dataframe tbody tr th {\n",
       "        vertical-align: top;\n",
       "    }\n",
       "\n",
       "    .dataframe thead th {\n",
       "        text-align: right;\n",
       "    }\n",
       "</style>\n",
       "<table border=\"1\" class=\"dataframe\">\n",
       "  <thead>\n",
       "    <tr style=\"text-align: right;\">\n",
       "      <th></th>\n",
       "      <th>plaintiff</th>\n",
       "      <th>defendant</th>\n",
       "    </tr>\n",
       "  </thead>\n",
       "  <tbody>\n",
       "    <tr>\n",
       "      <th>0</th>\n",
       "      <td>Potfolio Recovery Associates, Llc</td>\n",
       "      <td>Irby, JR , Thomas |</td>\n",
       "    </tr>\n",
       "    <tr>\n",
       "      <th>1</th>\n",
       "      <td>Discover Bank</td>\n",
       "      <td>Phan, Kevin T |</td>\n",
       "    </tr>\n",
       "    <tr>\n",
       "      <th>2</th>\n",
       "      <td>Wilcox, Clarence</td>\n",
       "      <td>Mobile Gas Station Owner Akmal Moawed |</td>\n",
       "    </tr>\n",
       "    <tr>\n",
       "      <th>3</th>\n",
       "      <td>Rab Performance Recoveries, Llc</td>\n",
       "      <td>Ware, Levi |</td>\n",
       "    </tr>\n",
       "    <tr>\n",
       "      <th>6</th>\n",
       "      <td>Capital One Bank (Usa), N.A.</td>\n",
       "      <td>George, Devahn R |</td>\n",
       "    </tr>\n",
       "  </tbody>\n",
       "</table>\n",
       "</div>"
      ],
      "text/plain": [
       "                            plaintiff  \\\n",
       "0  Potfolio Recovery Associates, Llc    \n",
       "1                      Discover Bank    \n",
       "2                   Wilcox, Clarence    \n",
       "3    Rab Performance Recoveries, Llc    \n",
       "6       Capital One Bank (Usa), N.A.    \n",
       "\n",
       "                                   defendant  \n",
       "0                       Irby, JR , Thomas |   \n",
       "1                           Phan, Kevin T |   \n",
       "2   Mobile Gas Station Owner Akmal Moawed |   \n",
       "3                              Ware, Levi |   \n",
       "6                        George, Devahn R |   "
      ]
     },
     "execution_count": 178,
     "metadata": {},
     "output_type": "execute_result"
    }
   ],
   "source": [
    "Good_examples = df2[~df2['defendant'].isnull()]\n",
    "Good_examples.head(5)\n",
    "\n",
    "# ~ serves as a negation for us. So what the above code means is that, we want rows that is not null"
   ]
  },
  {
   "cell_type": "code",
   "execution_count": 179,
   "metadata": {},
   "outputs": [
    {
     "name": "stderr",
     "output_type": "stream",
     "text": [
      "C:\\Users\\16178\\AppData\\Local\\Temp\\ipykernel_22288\\5645497.py:2: FutureWarning: The default value of regex will change from True to False in a future version. In addition, single character regular expressions will *not* be treated as literal strings when regex=True.\n",
      "  Good_examples['defendant'] = Good_examples['defendant'].str.replace('|', '')\n",
      "C:\\Users\\16178\\AppData\\Local\\Temp\\ipykernel_22288\\5645497.py:2: SettingWithCopyWarning: \n",
      "A value is trying to be set on a copy of a slice from a DataFrame.\n",
      "Try using .loc[row_indexer,col_indexer] = value instead\n",
      "\n",
      "See the caveats in the documentation: https://pandas.pydata.org/pandas-docs/stable/user_guide/indexing.html#returning-a-view-versus-a-copy\n",
      "  Good_examples['defendant'] = Good_examples['defendant'].str.replace('|', '')\n"
     ]
    }
   ],
   "source": [
    "# samething we want to get rid of the bar...\n",
    "Good_examples['defendant'] = Good_examples['defendant'].str.replace('|', '')\n"
   ]
  },
  {
   "cell_type": "code",
   "execution_count": 180,
   "metadata": {},
   "outputs": [
    {
     "data": {
      "text/plain": [
       "(299868, 2)"
      ]
     },
     "execution_count": 180,
     "metadata": {},
     "output_type": "execute_result"
    }
   ],
   "source": [
    "Good_examples.shape"
   ]
  },
  {
   "cell_type": "markdown",
   "metadata": {},
   "source": [
    "## Concating the two dataframes"
   ]
  },
  {
   "cell_type": "code",
   "execution_count": 181,
   "metadata": {},
   "outputs": [],
   "source": [
    "final_df = pd.concat([Good_examples, df3])"
   ]
  },
  {
   "cell_type": "code",
   "execution_count": 182,
   "metadata": {},
   "outputs": [
    {
     "data": {
      "text/html": [
       "<div>\n",
       "<style scoped>\n",
       "    .dataframe tbody tr th:only-of-type {\n",
       "        vertical-align: middle;\n",
       "    }\n",
       "\n",
       "    .dataframe tbody tr th {\n",
       "        vertical-align: top;\n",
       "    }\n",
       "\n",
       "    .dataframe thead th {\n",
       "        text-align: right;\n",
       "    }\n",
       "</style>\n",
       "<table border=\"1\" class=\"dataframe\">\n",
       "  <thead>\n",
       "    <tr style=\"text-align: right;\">\n",
       "      <th></th>\n",
       "      <th>plaintiff</th>\n",
       "      <th>defendant</th>\n",
       "    </tr>\n",
       "  </thead>\n",
       "  <tbody>\n",
       "    <tr>\n",
       "      <th>0</th>\n",
       "      <td>Potfolio Recovery Associates, Llc</td>\n",
       "      <td>Irby, JR , Thomas</td>\n",
       "    </tr>\n",
       "    <tr>\n",
       "      <th>1</th>\n",
       "      <td>Discover Bank</td>\n",
       "      <td>Phan, Kevin T</td>\n",
       "    </tr>\n",
       "    <tr>\n",
       "      <th>2</th>\n",
       "      <td>Wilcox, Clarence</td>\n",
       "      <td>Mobile Gas Station Owner Akmal Moawed</td>\n",
       "    </tr>\n",
       "    <tr>\n",
       "      <th>3</th>\n",
       "      <td>Rab Performance Recoveries, Llc</td>\n",
       "      <td>Ware, Levi</td>\n",
       "    </tr>\n",
       "    <tr>\n",
       "      <th>6</th>\n",
       "      <td>Capital One Bank (Usa), N.A.</td>\n",
       "      <td>George, Devahn R</td>\n",
       "    </tr>\n",
       "    <tr>\n",
       "      <th>...</th>\n",
       "      <td>...</td>\n",
       "      <td>...</td>\n",
       "    </tr>\n",
       "    <tr>\n",
       "      <th>748700</th>\n",
       "      <td>Signet Electronic Systems, Inc.</td>\n",
       "      <td>T.R. White Co., Inc.</td>\n",
       "    </tr>\n",
       "    <tr>\n",
       "      <th>748701</th>\n",
       "      <td>Disco</td>\n",
       "      <td>r Bank v. Khan, Agha Naeem</td>\n",
       "    </tr>\n",
       "    <tr>\n",
       "      <th>748702</th>\n",
       "      <td>First Financial Portfolio Management Inc.</td>\n",
       "      <td>Young, Janice</td>\n",
       "    </tr>\n",
       "    <tr>\n",
       "      <th>748703</th>\n",
       "      <td>Leeway Realty Trust As officer of or agent for...</td>\n",
       "      <td>Baiona, Lawrence</td>\n",
       "    </tr>\n",
       "    <tr>\n",
       "      <th>748704</th>\n",
       "      <td>Cape Cod Hospital</td>\n",
       "      <td>Commerce Insurance Company</td>\n",
       "    </tr>\n",
       "  </tbody>\n",
       "</table>\n",
       "<p>1048573 rows × 2 columns</p>\n",
       "</div>"
      ],
      "text/plain": [
       "                                                plaintiff  \\\n",
       "0                      Potfolio Recovery Associates, Llc    \n",
       "1                                          Discover Bank    \n",
       "2                                       Wilcox, Clarence    \n",
       "3                        Rab Performance Recoveries, Llc    \n",
       "6                           Capital One Bank (Usa), N.A.    \n",
       "...                                                   ...   \n",
       "748700                   Signet Electronic Systems, Inc.    \n",
       "748701                                              Disco   \n",
       "748702         First Financial Portfolio Management Inc.    \n",
       "748703  Leeway Realty Trust As officer of or agent for...   \n",
       "748704                                 Cape Cod Hospital    \n",
       "\n",
       "                                       defendant  \n",
       "0                            Irby, JR , Thomas    \n",
       "1                                Phan, Kevin T    \n",
       "2        Mobile Gas Station Owner Akmal Moawed    \n",
       "3                                   Ware, Levi    \n",
       "6                             George, Devahn R    \n",
       "...                                          ...  \n",
       "748700                    T.R. White Co., Inc.    \n",
       "748701              r Bank v. Khan, Agha Naeem    \n",
       "748702                           Young, Janice    \n",
       "748703                        Baiona, Lawrence    \n",
       "748704              Commerce Insurance Company    \n",
       "\n",
       "[1048573 rows x 2 columns]"
      ]
     },
     "execution_count": 182,
     "metadata": {},
     "output_type": "execute_result"
    }
   ],
   "source": [
    "final_df"
   ]
  },
  {
   "cell_type": "markdown",
   "metadata": {},
   "source": [
    "how can we check we have the final results concat? Well just add the shape of both dataframe. Which is 299868 + 748705 = 1048573"
   ]
  },
  {
   "cell_type": "markdown",
   "metadata": {},
   "source": [
    "#  count number of plaintiff and defendant"
   ]
  },
  {
   "cell_type": "markdown",
   "metadata": {},
   "source": [
    "Notice that you see some examples as Capital One Bank (USA), N.A. and Capital One Bank (Usa), N.A.?\\\n",
    "These are the samething, but the dataset comes in with different alphabet lower case and upperecase. We should lowercase every single examples then count them..\\\n",
    "Also we should replace comma with empty string. Some examples have comma in wrong position.."
   ]
  },
  {
   "cell_type": "code",
   "execution_count": 183,
   "metadata": {},
   "outputs": [],
   "source": [
    "final_df['plaintiff'] = final_df['plaintiff'].str.upper()"
   ]
  },
  {
   "cell_type": "code",
   "execution_count": 184,
   "metadata": {},
   "outputs": [
    {
     "data": {
      "text/plain": [
       "False"
      ]
     },
     "execution_count": 184,
     "metadata": {},
     "output_type": "execute_result"
    }
   ],
   "source": [
    "final_df['plaintiff'].isnull().any()"
   ]
  },
  {
   "cell_type": "markdown",
   "metadata": {},
   "source": [
    "We have no null for this."
   ]
  },
  {
   "cell_type": "code",
   "execution_count": 185,
   "metadata": {},
   "outputs": [
    {
     "data": {
      "text/html": [
       "<div>\n",
       "<style scoped>\n",
       "    .dataframe tbody tr th:only-of-type {\n",
       "        vertical-align: middle;\n",
       "    }\n",
       "\n",
       "    .dataframe tbody tr th {\n",
       "        vertical-align: top;\n",
       "    }\n",
       "\n",
       "    .dataframe thead th {\n",
       "        text-align: right;\n",
       "    }\n",
       "</style>\n",
       "<table border=\"1\" class=\"dataframe\">\n",
       "  <thead>\n",
       "    <tr style=\"text-align: right;\">\n",
       "      <th></th>\n",
       "      <th>plaintiff</th>\n",
       "    </tr>\n",
       "  </thead>\n",
       "  <tbody>\n",
       "    <tr>\n",
       "      <th>CAPITAL ONE BANK (USA), N.A.</th>\n",
       "      <td>29476</td>\n",
       "    </tr>\n",
       "    <tr>\n",
       "      <th>PORTFOLIO RECO</th>\n",
       "      <td>24924</td>\n",
       "    </tr>\n",
       "    <tr>\n",
       "      <th>DISCO</th>\n",
       "      <td>16795</td>\n",
       "    </tr>\n",
       "    <tr>\n",
       "      <th>CACH, LLC</th>\n",
       "      <td>13849</td>\n",
       "    </tr>\n",
       "    <tr>\n",
       "      <th>CA</th>\n",
       "      <td>11905</td>\n",
       "    </tr>\n",
       "    <tr>\n",
       "      <th>MIDLAND FUNDING LLC</th>\n",
       "      <td>10030</td>\n",
       "    </tr>\n",
       "    <tr>\n",
       "      <th>DISCOVER BANK</th>\n",
       "      <td>10002</td>\n",
       "    </tr>\n",
       "    <tr>\n",
       "      <th>MIDLAND FUNDING, LLC</th>\n",
       "      <td>9872</td>\n",
       "    </tr>\n",
       "  </tbody>\n",
       "</table>\n",
       "</div>"
      ],
      "text/plain": [
       "                               plaintiff\n",
       "CAPITAL ONE BANK (USA), N.A.       29476\n",
       "PORTFOLIO RECO                     24924\n",
       "DISCO                              16795\n",
       "CACH, LLC                          13849\n",
       "CA                                 11905\n",
       "MIDLAND FUNDING LLC                10030\n",
       "DISCOVER BANK                      10002\n",
       "MIDLAND FUNDING, LLC                9872"
      ]
     },
     "execution_count": 185,
     "metadata": {},
     "output_type": "execute_result"
    }
   ],
   "source": [
    "count_plaintiff = pd.DataFrame(final_df['plaintiff'].value_counts())\n",
    "count_plaintiff.head(8)"
   ]
  },
  {
   "cell_type": "code",
   "execution_count": 119,
   "metadata": {},
   "outputs": [],
   "source": [
    "# save this to excel files\n",
    "count_plaintiff.to_excel('num_Of_plaintiff.xlsx')"
   ]
  },
  {
   "cell_type": "markdown",
   "metadata": {},
   "source": [
    "# Do the same for Defendant"
   ]
  },
  {
   "cell_type": "code",
   "execution_count": 187,
   "metadata": {},
   "outputs": [],
   "source": [
    "final_df['defendant'] = final_df['defendant'].str.upper()\n"
   ]
  },
  {
   "cell_type": "code",
   "execution_count": 188,
   "metadata": {},
   "outputs": [],
   "source": [
    "non_null_final_df = final_df.loc[final_df['defendant'].notnull()]"
   ]
  },
  {
   "cell_type": "code",
   "execution_count": 189,
   "metadata": {},
   "outputs": [
    {
     "data": {
      "text/plain": [
       "plaintiff    False\n",
       "defendant    False\n",
       "dtype: bool"
      ]
     },
     "execution_count": 189,
     "metadata": {},
     "output_type": "execute_result"
    }
   ],
   "source": [
    "non_null_final_df.isnull().any()"
   ]
  },
  {
   "cell_type": "markdown",
   "metadata": {},
   "source": [
    "good now we dont have any missing in dataframe"
   ]
  },
  {
   "cell_type": "code",
   "execution_count": 190,
   "metadata": {},
   "outputs": [
    {
     "data": {
      "text/html": [
       "<div>\n",
       "<style scoped>\n",
       "    .dataframe tbody tr th:only-of-type {\n",
       "        vertical-align: middle;\n",
       "    }\n",
       "\n",
       "    .dataframe tbody tr th {\n",
       "        vertical-align: top;\n",
       "    }\n",
       "\n",
       "    .dataframe thead th {\n",
       "        text-align: right;\n",
       "    }\n",
       "</style>\n",
       "<table border=\"1\" class=\"dataframe\">\n",
       "  <thead>\n",
       "    <tr style=\"text-align: right;\">\n",
       "      <th></th>\n",
       "      <th>defendant</th>\n",
       "    </tr>\n",
       "  </thead>\n",
       "  <tbody>\n",
       "    <tr>\n",
       "      <th>COMMERCE INSURANCE COMPANY</th>\n",
       "      <td>2064</td>\n",
       "    </tr>\n",
       "    <tr>\n",
       "      <th>LIBERTY MUTUAL INSURANCE COMPANY</th>\n",
       "      <td>1023</td>\n",
       "    </tr>\n",
       "    <tr>\n",
       "      <th></th>\n",
       "      <td>714</td>\n",
       "    </tr>\n",
       "    <tr>\n",
       "      <th>SAFETY INSURANCE COMPANY</th>\n",
       "      <td>592</td>\n",
       "    </tr>\n",
       "    <tr>\n",
       "      <th>ARBELLA MUTUAL INSURANCE COMPANY</th>\n",
       "      <td>369</td>\n",
       "    </tr>\n",
       "    <tr>\n",
       "      <th>METROPOLITAN PROPERTY &amp; CASUALTY INSURANCE COMPANY</th>\n",
       "      <td>360</td>\n",
       "    </tr>\n",
       "    <tr>\n",
       "      <th>PLYMOUTH ROCK ASSURANCE CORPORATION</th>\n",
       "      <td>309</td>\n",
       "    </tr>\n",
       "    <tr>\n",
       "      <th>BOSTON HOUSING AUTHORITY</th>\n",
       "      <td>308</td>\n",
       "    </tr>\n",
       "  </tbody>\n",
       "</table>\n",
       "</div>"
      ],
      "text/plain": [
       "                                                    defendant\n",
       " COMMERCE INSURANCE COMPANY                              2064\n",
       " LIBERTY MUTUAL INSURANCE COMPANY                        1023\n",
       "                                                          714\n",
       " SAFETY INSURANCE COMPANY                                 592\n",
       " ARBELLA MUTUAL INSURANCE COMPANY                         369\n",
       " METROPOLITAN PROPERTY & CASUALTY INSURANCE COM...        360\n",
       " PLYMOUTH ROCK ASSURANCE CORPORATION                      309\n",
       " BOSTON HOUSING AUTHORITY                                 308"
      ]
     },
     "execution_count": 190,
     "metadata": {},
     "output_type": "execute_result"
    }
   ],
   "source": [
    "count_defendant = pd.DataFrame(non_null_final_df['defendant'].value_counts())\n",
    "count_defendant.head(8)"
   ]
  },
  {
   "cell_type": "markdown",
   "metadata": {},
   "source": [
    "For some reason, we may run into illegalcharacter error. We will install xlsxwriter.."
   ]
  },
  {
   "cell_type": "code",
   "execution_count": 126,
   "metadata": {},
   "outputs": [
    {
     "name": "stdout",
     "output_type": "stream",
     "text": [
      "Collecting xlsxwriter\n",
      "  Downloading XlsxWriter-3.0.3-py3-none-any.whl (149 kB)\n",
      "Installing collected packages: xlsxwriter\n",
      "Successfully installed xlsxwriter-3.0.3\n",
      "Note: you may need to restart the kernel to use updated packages.\n"
     ]
    }
   ],
   "source": [
    "pip install xlsxwriter"
   ]
  },
  {
   "cell_type": "code",
   "execution_count": 127,
   "metadata": {},
   "outputs": [],
   "source": [
    "# save it as excel files\n",
    "count_defendant.to_excel('defendant.xlsx', engine='xlsxwriter')"
   ]
  },
  {
   "cell_type": "markdown",
   "metadata": {},
   "source": [
    "# Key Takeaway\n",
    "\n",
    "Most defendant top are insurance companys\\\n",
    "Most plaintiff top are banks."
   ]
  },
  {
   "cell_type": "code",
   "execution_count": null,
   "metadata": {},
   "outputs": [],
   "source": []
  }
 ],
 "metadata": {
  "kernelspec": {
   "display_name": "Python 3.9.7 ('ml')",
   "language": "python",
   "name": "python3"
  },
  "language_info": {
   "codemirror_mode": {
    "name": "ipython",
    "version": 3
   },
   "file_extension": ".py",
   "mimetype": "text/x-python",
   "name": "python",
   "nbconvert_exporter": "python",
   "pygments_lexer": "ipython3",
   "version": "3.9.7"
  },
  "orig_nbformat": 4,
  "vscode": {
   "interpreter": {
    "hash": "d76396febbd0a733882b1458c3ee4a5c8a662d67033c926e5be313f23d66902e"
   }
  }
 },
 "nbformat": 4,
 "nbformat_minor": 2
}
