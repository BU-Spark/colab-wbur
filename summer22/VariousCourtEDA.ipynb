{
 "cells": [
  {
   "cell_type": "code",
   "execution_count": 1,
   "metadata": {},
   "outputs": [],
   "source": [
    "import numpy as np\n",
    "import matplotlib.pyplot as plt\n",
    "import seaborn as sns\n",
    "import pandas as pd\n",
    "import math"
   ]
  },
  {
   "cell_type": "code",
   "execution_count": 6,
   "metadata": {},
   "outputs": [
    {
     "name": "stderr",
     "output_type": "stream",
     "text": [
      "c:\\Users\\16178\\anaconda3\\lib\\site-packages\\IPython\\core\\interactiveshell.py:3444: DtypeWarning: Columns (5,6,7,8,10,11,12) have mixed types.Specify dtype option on import or set low_memory=False.\n",
      "  exec(code_obj, self.user_global_ns, self.user_ns)\n"
     ]
    },
    {
     "data": {
      "text/html": [
       "<div>\n",
       "<style scoped>\n",
       "    .dataframe tbody tr th:only-of-type {\n",
       "        vertical-align: middle;\n",
       "    }\n",
       "\n",
       "    .dataframe tbody tr th {\n",
       "        vertical-align: top;\n",
       "    }\n",
       "\n",
       "    .dataframe thead th {\n",
       "        text-align: right;\n",
       "    }\n",
       "</style>\n",
       "<table border=\"1\" class=\"dataframe\">\n",
       "  <thead>\n",
       "    <tr style=\"text-align: right;\">\n",
       "      <th></th>\n",
       "      <th>Unnamed: 0</th>\n",
       "      <th>post_id</th>\n",
       "      <th>case_number</th>\n",
       "      <th>case_type</th>\n",
       "      <th>judge_1_id</th>\n",
       "      <th>judge_2_id</th>\n",
       "      <th>judge_3_id</th>\n",
       "      <th>judge_4_id</th>\n",
       "      <th>judge_5_id</th>\n",
       "      <th>Days</th>\n",
       "      <th>court_department</th>\n",
       "      <th>court_location</th>\n",
       "      <th>case_title</th>\n",
       "      <th>case_status_x</th>\n",
       "    </tr>\n",
       "  </thead>\n",
       "  <tbody>\n",
       "    <tr>\n",
       "      <th>0</th>\n",
       "      <td>0</td>\n",
       "      <td>5464</td>\n",
       "      <td>1107SP000308</td>\n",
       "      <td>Supplementary Process</td>\n",
       "      <td>Miller, Rosalind H</td>\n",
       "      <td>NaN</td>\n",
       "      <td>NaN</td>\n",
       "      <td>NaN</td>\n",
       "      <td>NaN</td>\n",
       "      <td>233.0</td>\n",
       "      <td>BMC</td>\n",
       "      <td>BMC Dorchester</td>\n",
       "      <td>1107SP000308</td>\n",
       "      <td>Disposed (Statistical Purposes)</td>\n",
       "    </tr>\n",
       "    <tr>\n",
       "      <th>1</th>\n",
       "      <td>1</td>\n",
       "      <td>5481</td>\n",
       "      <td>1107SC000568</td>\n",
       "      <td>Small Claims</td>\n",
       "      <td>Miller, Rosalind H</td>\n",
       "      <td>Caldwell, Valerie</td>\n",
       "      <td>Claldwell, Valerie</td>\n",
       "      <td>NaN</td>\n",
       "      <td>NaN</td>\n",
       "      <td>65.0</td>\n",
       "      <td>BMC</td>\n",
       "      <td>BMC Dorchester</td>\n",
       "      <td>1107SC000568</td>\n",
       "      <td>Disposed (Statistical Purposes)</td>\n",
       "    </tr>\n",
       "    <tr>\n",
       "      <th>2</th>\n",
       "      <td>2</td>\n",
       "      <td>5487</td>\n",
       "      <td>1107SC000567</td>\n",
       "      <td>Small Claims</td>\n",
       "      <td>Miller, Rosalind H</td>\n",
       "      <td>Caldwell, Valerie</td>\n",
       "      <td>Claldwell, Valerie</td>\n",
       "      <td>NaN</td>\n",
       "      <td>NaN</td>\n",
       "      <td>65.0</td>\n",
       "      <td>BMC</td>\n",
       "      <td>BMC Dorchester</td>\n",
       "      <td>1107SC000567 Midland Funding, Llc v. Norman, P...</td>\n",
       "      <td>Disposed (Statistical Purposes)</td>\n",
       "    </tr>\n",
       "    <tr>\n",
       "      <th>3</th>\n",
       "      <td>3</td>\n",
       "      <td>5497</td>\n",
       "      <td>1107SC000566</td>\n",
       "      <td>Small Claims</td>\n",
       "      <td>Clough, John J</td>\n",
       "      <td>NaN</td>\n",
       "      <td>NaN</td>\n",
       "      <td>NaN</td>\n",
       "      <td>NaN</td>\n",
       "      <td>46.0</td>\n",
       "      <td>BMC</td>\n",
       "      <td>BMC Dorchester</td>\n",
       "      <td>1107SC000566 Hamilton, Natasha R v. Yell-O-Glo...</td>\n",
       "      <td>Disposed (Statistical Purposes)</td>\n",
       "    </tr>\n",
       "    <tr>\n",
       "      <th>4</th>\n",
       "      <td>4</td>\n",
       "      <td>5505</td>\n",
       "      <td>1107SC000565</td>\n",
       "      <td>Small Claims</td>\n",
       "      <td>Miller, Rosalind H</td>\n",
       "      <td>Caldwell, Valerie</td>\n",
       "      <td>Claldwell, Valerie</td>\n",
       "      <td>NaN</td>\n",
       "      <td>NaN</td>\n",
       "      <td>65.0</td>\n",
       "      <td>BMC</td>\n",
       "      <td>BMC Dorchester</td>\n",
       "      <td>1107SC000565</td>\n",
       "      <td>Disposed (Statistical Purposes)</td>\n",
       "    </tr>\n",
       "  </tbody>\n",
       "</table>\n",
       "</div>"
      ],
      "text/plain": [
       "   Unnamed: 0  post_id   case_number              case_type  \\\n",
       "0           0     5464  1107SP000308  Supplementary Process   \n",
       "1           1     5481  1107SC000568           Small Claims   \n",
       "2           2     5487  1107SC000567           Small Claims   \n",
       "3           3     5497  1107SC000566           Small Claims   \n",
       "4           4     5505  1107SC000565           Small Claims   \n",
       "\n",
       "           judge_1_id         judge_2_id          judge_3_id judge_4_id  \\\n",
       "0  Miller, Rosalind H                NaN                 NaN        NaN   \n",
       "1  Miller, Rosalind H  Caldwell, Valerie  Claldwell, Valerie        NaN   \n",
       "2  Miller, Rosalind H  Caldwell, Valerie  Claldwell, Valerie        NaN   \n",
       "3      Clough, John J                NaN                 NaN        NaN   \n",
       "4  Miller, Rosalind H  Caldwell, Valerie  Claldwell, Valerie        NaN   \n",
       "\n",
       "  judge_5_id   Days court_department  court_location  \\\n",
       "0        NaN  233.0              BMC  BMC Dorchester   \n",
       "1        NaN   65.0              BMC  BMC Dorchester   \n",
       "2        NaN   65.0              BMC  BMC Dorchester   \n",
       "3        NaN   46.0              BMC  BMC Dorchester   \n",
       "4        NaN   65.0              BMC  BMC Dorchester   \n",
       "\n",
       "                                          case_title  \\\n",
       "0                                       1107SP000308   \n",
       "1                                       1107SC000568   \n",
       "2  1107SC000567 Midland Funding, Llc v. Norman, P...   \n",
       "3  1107SC000566 Hamilton, Natasha R v. Yell-O-Glo...   \n",
       "4                                       1107SC000565   \n",
       "\n",
       "                     case_status_x  \n",
       "0  Disposed (Statistical Purposes)  \n",
       "1  Disposed (Statistical Purposes)  \n",
       "2  Disposed (Statistical Purposes)  \n",
       "3  Disposed (Statistical Purposes)  \n",
       "4  Disposed (Statistical Purposes)  "
      ]
     },
     "execution_count": 6,
     "metadata": {},
     "output_type": "execute_result"
    }
   ],
   "source": [
    "df = pd.read_csv('merge_judgeName_location.csv')\n",
    "df.head(5)"
   ]
  },
  {
   "cell_type": "code",
   "execution_count": 23,
   "metadata": {},
   "outputs": [
    {
     "data": {
      "text/plain": [
       "(1202904, 13)"
      ]
     },
     "execution_count": 23,
     "metadata": {},
     "output_type": "execute_result"
    }
   ],
   "source": [
    "df.shape"
   ]
  },
  {
   "cell_type": "code",
   "execution_count": 26,
   "metadata": {},
   "outputs": [
    {
     "data": {
      "text/plain": [
       "array(['Supplementary Process', 'Small Claims', 'Civil',\n",
       "       'Summary Process', 'Housing Court Summary Process',\n",
       "       'Estates and Administration', 'Miscellaneous',\n",
       "       'Contract / Business Cases', 'Permit Session',\n",
       "       'Housing Court Civil', 'Housing Court Small Claims', 'Other Court',\n",
       "       'Subsequent', 'Torts', 'Servicemembers',\n",
       "       'Administrative Civil Actions', 'Real Property',\n",
       "       'Actions Involving the State/Municipality', 'Equitable Remedies',\n",
       "       'Housing Court Supplementary Process',\n",
       "       'Civil Actions with Incarcerated Party', 'Tax Lien',\n",
       "       'Domestic Relations', 'Guardianship Managed',\n",
       "       'Change of Name Managed', 'Equity - Partition', 'Indictment',\n",
       "       'Miscellaneous Civil Actions', 'Civil Cross Site',\n",
       "       'Probation Transfer', 'Business Litigation', 'Equity Petition',\n",
       "       'Criminal Complaint'], dtype=object)"
      ]
     },
     "execution_count": 26,
     "metadata": {},
     "output_type": "execute_result"
    }
   ],
   "source": [
    "df['case_type'].unique()"
   ]
  },
  {
   "cell_type": "code",
   "execution_count": 25,
   "metadata": {},
   "outputs": [
    {
     "data": {
      "text/plain": [
       "(1200234, 13)"
      ]
     },
     "execution_count": 25,
     "metadata": {},
     "output_type": "execute_result"
    }
   ],
   "source": [
    "new_df = df[df['case_type'] != 'Tax Lien']\n"
   ]
  },
  {
   "cell_type": "code",
   "execution_count": 27,
   "metadata": {},
   "outputs": [],
   "source": [
    "new_df.to_csv('updated_merge_judgeName_location.csv')"
   ]
  },
  {
   "cell_type": "markdown",
   "metadata": {},
   "source": [
    "# Find Case composition"
   ]
  },
  {
   "cell_type": "code",
   "execution_count": 10,
   "metadata": {},
   "outputs": [
    {
     "data": {
      "text/plain": [
       "Index(['Unnamed: 0', 'post_id', 'case_number', 'case_type', 'judge_1_id',\n",
       "       'judge_2_id', 'judge_3_id', 'judge_4_id', 'judge_5_id', 'Days',\n",
       "       'court_department', 'court_location', 'case_title', 'case_status_x'],\n",
       "      dtype='object')"
      ]
     },
     "execution_count": 10,
     "metadata": {},
     "output_type": "execute_result"
    }
   ],
   "source": [
    "df.columns"
   ]
  },
  {
   "cell_type": "code",
   "execution_count": 7,
   "metadata": {},
   "outputs": [
    {
     "data": {
      "text/plain": [
       "array(['BMC', 'Housing Court', nan, 'Probate and Family Court',\n",
       "       'District Court', 'Land Court Department', 'The Superior Court'],\n",
       "      dtype=object)"
      ]
     },
     "execution_count": 7,
     "metadata": {},
     "output_type": "execute_result"
    }
   ],
   "source": [
    "df['court_department'].unique()"
   ]
  },
  {
   "cell_type": "code",
   "execution_count": 11,
   "metadata": {},
   "outputs": [],
   "source": [
    "df.drop(columns=['Unnamed: 0'], inplace=True)\n"
   ]
  },
  {
   "cell_type": "code",
   "execution_count": 15,
   "metadata": {},
   "outputs": [
    {
     "name": "stdout",
     "output_type": "stream",
     "text": [
      "court_department          case_type                               \n",
      "BMC                       Civil                                        23553\n",
      "                          Small Claims                                 19511\n",
      "                          Summary Process                               4853\n",
      "                          Supplementary Process                        13350\n",
      "District Court            Civil                                       171075\n",
      "                          Small Claims                                150090\n",
      "                          Summary Process                              41451\n",
      "                          Supplementary Process                        37839\n",
      "Housing Court             Housing Court Civil                            155\n",
      "                          Housing Court Small Claims                      56\n",
      "                          Housing Court Summary Process                11834\n",
      "Land Court Department     Miscellaneous                                 2073\n",
      "                          Other Court                                      9\n",
      "                          Permit Session                                  27\n",
      "                          Servicemembers                                  13\n",
      "                          Subsequent                                       5\n",
      "Probate and Family Court  Estates and Administration                   41792\n",
      "The Superior Court        Actions Involving the State/Municipality         2\n",
      "                          Administrative Civil Actions                    19\n",
      "                          Civil Actions with Incarcerated Party            1\n",
      "                          Contract / Business Cases                       78\n",
      "                          Equitable Remedies                              11\n",
      "                          Real Property                                   14\n",
      "                          Torts                                           37\n",
      "Name: case_type, dtype: int64\n"
     ]
    }
   ],
   "source": [
    "result = df.groupby(['court_department', 'case_type'])['case_type'].count()\n",
    "print(result)"
   ]
  },
  {
   "cell_type": "markdown",
   "metadata": {},
   "source": [
    "What we are seeing right now is that each court_department has which case types in total.\n",
    "We can see that <b>BMC, District Court</b>: Most case type -> Civil\\\n",
    "<b>Housing Court</b>: Most case type -> Housing Court Summary Process\\\n",
    "<b>Land Court Department</b>: Most case type -> Miscellaneous\\\n",
    "<b>Probate and Family Court</b>: Most case type -> Estates and Administration, last time we all see that only this case type has judge names before merging.\\\n",
    "<b>Superior Court</b>: Most case type -> Contract / Business Cases. Not sure what that really means, but maybe Business violating certain laws?"
   ]
  },
  {
   "cell_type": "code",
   "execution_count": 21,
   "metadata": {},
   "outputs": [
    {
     "name": "stdout",
     "output_type": "stream",
     "text": [
      "court_department    case_type  court_location  \n",
      "BMC                 Civil      BMC Brighton        2487\n",
      "                               BMC Charlestown      144\n",
      "                               BMC Dorchester      8787\n",
      "                               BMC East Boston     1249\n",
      "                               BMC Roxbury         3157\n",
      "                                                   ... \n",
      "The Superior Court  Torts      Berkshire County       2\n",
      "                               Bristol County         2\n",
      "                               Essex County           3\n",
      "                               Middlesex County      10\n",
      "                               Worcester County      16\n",
      "Name: case_type, Length: 328, dtype: int64\n"
     ]
    }
   ],
   "source": [
    "result1 = df.groupby(['court_department', 'case_type', 'court_location'])['case_type'].count()\n",
    "print(result1)"
   ]
  },
  {
   "cell_type": "code",
   "execution_count": null,
   "metadata": {},
   "outputs": [],
   "source": [
    "#result1.to_csv('frequency-court.csv')"
   ]
  }
 ],
 "metadata": {
  "kernelspec": {
   "display_name": "Python 3.9.7 ('base')",
   "language": "python",
   "name": "python3"
  },
  "language_info": {
   "codemirror_mode": {
    "name": "ipython",
    "version": 3
   },
   "file_extension": ".py",
   "mimetype": "text/x-python",
   "name": "python",
   "nbconvert_exporter": "python",
   "pygments_lexer": "ipython3",
   "version": "3.9.7"
  },
  "orig_nbformat": 4,
  "vscode": {
   "interpreter": {
    "hash": "180fa58295742130fa1ae6c162133d7152da0f283aea2cd45b5618b72fdbcd24"
   }
  }
 },
 "nbformat": 4,
 "nbformat_minor": 2
}
