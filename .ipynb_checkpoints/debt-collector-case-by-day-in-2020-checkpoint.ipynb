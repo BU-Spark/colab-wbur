{
 "cells": [
  {
   "cell_type": "code",
   "execution_count": 3,
   "id": "192142c4",
   "metadata": {},
   "outputs": [],
   "source": [
    "import numpy as np"
   ]
  },
  {
   "cell_type": "code",
   "execution_count": 4,
   "id": "1be3d96d",
   "metadata": {},
   "outputs": [],
   "source": [
    "day_per_months_in_2020 = {\n",
    "    1: 31,\n",
    "    2: 29,\n",
    "    3: 31,\n",
    "    4: 30,\n",
    "    5: 31,\n",
    "    6: 30,\n",
    "    7: 31,\n",
    "    8: 31,\n",
    "    9: 30,\n",
    "    10: 31,\n",
    "    11: 30,\n",
    "    12: 31\n",
    "}"
   ]
  },
  {
   "cell_type": "code",
   "execution_count": 5,
   "id": "583e0b29",
   "metadata": {},
   "outputs": [],
   "source": [
    "top_debt_collectors = [\n",
    "    \"./data/debt_collector_query_result/Midland_Funding.csv\",\n",
    "    \"./data/debt_collector_query_result/Portfolio_Recovery_Associates.csv\",\n",
    "    \"./data/debt_collector_query_result/Palisades_Collection.csv\",\n",
    "    \"./data/debt_collector_query_result/Waterfront_Capital.csv\",\n",
    "    \"./data/debt_collector_query_result/redit_Management.csv\",\n",
    "    \"./data/debt_collector_query_result/Atlantic_Credit_&_Finance.csv\",\n",
    "    \"./data/debt_collector_query_result/Midland_Credit_Management.csv\",\n",
    "    \"./data/debt_collector_query_result/Unifund_Corporatio.csv\",\n",
    "    \"./data/debt_collector_query_result/avalry_Portfolio_Services.csv\"\n",
    "]"
   ]
  },
  {
   "cell_type": "code",
   "execution_count": null,
   "id": "6c283e95",
   "metadata": {},
   "outputs": [],
   "source": [
    "collector_cases = np.loadtxt(\"./data/debt_collector_query_result/Midland_Funding.csv\",\n",
    "                 delimiter=\",\", dtype=str)"
   ]
  }
 ],
 "metadata": {
  "kernelspec": {
   "display_name": "Python 3 (ipykernel)",
   "language": "python",
   "name": "python3"
  },
  "language_info": {
   "codemirror_mode": {
    "name": "ipython",
    "version": 3
   },
   "file_extension": ".py",
   "mimetype": "text/x-python",
   "name": "python",
   "nbconvert_exporter": "python",
   "pygments_lexer": "ipython3",
   "version": "3.9.13"
  }
 },
 "nbformat": 4,
 "nbformat_minor": 5
}
