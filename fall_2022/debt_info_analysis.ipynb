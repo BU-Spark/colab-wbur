{
 "cells": [
  {
   "cell_type": "code",
   "execution_count": 1,
   "metadata": {},
   "outputs": [],
   "source": [
    "import matplotlib.pyplot as plt\n",
    "import pandas as pd\n",
    "import csv\n",
    "import datetime\n",
    "import matplotlib.dates as mdates\n",
    "import glob\n",
    "import json\n",
    "import numpy as np"
   ]
  },
  {
   "cell_type": "code",
   "execution_count": 2,
   "metadata": {},
   "outputs": [
    {
     "data": {
      "text/plain": [
       "['./data/debt_collector_query_result/National_Credit_Services.csv',\n",
       " './data/debt_collector_query_result/Affiliate_Asset_Solutions.csv',\n",
       " './data/debt_collector_query_result/Statebridge_Company.csv',\n",
       " './data/debt_collector_query_result/STONELEIGH_RECOVERY_ASSOCIATES.csv',\n",
       " './data/debt_collector_query_result/Aspen_National_Financial.csv',\n",
       " './data/debt_collector_query_result/TriVerity.csv',\n",
       " './data/debt_collector_query_result/National_Collection_Systems.csv',\n",
       " './data/debt_collector_query_result/redit_Control.csv',\n",
       " './data/debt_collector_query_result/Valentine_&_Kebartas.csv',\n",
       " './data/debt_collector_query_result/Enhanced_Recovery_Company.csv',\n",
       " './data/debt_collector_query_result/J.M._Adjustment_Services.csv',\n",
       " './data/debt_collector_query_result/ife_Line_Billing_Systems.csv',\n",
       " './data/debt_collector_query_result/Franklin_Credit_Management_Corporatio.csv',\n",
       " './data/debt_collector_query_result/The_CBE_Group.csv',\n",
       " './data/debt_collector_query_result/American_Coradius_International.csv',\n",
       " './data/debt_collector_query_result/Webcollex.csv',\n",
       " './data/debt_collector_query_result/AIS_Recovery_Solutions.csv',\n",
       " './data/debt_collector_query_result/Firstsource_Advantage.csv',\n",
       " './data/debt_collector_query_result/BCA_Financial_Services.csv',\n",
       " './data/debt_collector_query_result/Delta_Management_Associates.csv',\n",
       " './data/debt_collector_query_result/SUNRISE_CREDIT_SERVICES.csv',\n",
       " './data/debt_collector_query_result/Helvey_&_Associates.csv',\n",
       " './data/debt_collector_query_result/Mortgage_Assets_Management.csv',\n",
       " './data/debt_collector_query_result/Retrieval-Masters_Creditors_Bureau.csv',\n",
       " './data/debt_collector_query_result/Global_Credit_&_Collection_Corporatio.csv',\n",
       " './data/debt_collector_query_result/Seterus.csv',\n",
       " './data/debt_collector_query_result/redit_Solutions.csv',\n",
       " './data/debt_collector_query_result/Ocwen_Business_Solutions.csv',\n",
       " './data/debt_collector_query_result/Account_Resolution_Group.csv',\n",
       " './data/debt_collector_query_result/Hunter_Warfield_Of_New_England.csv',\n",
       " './data/debt_collector_query_result/Advanced_Call_Center_Technologies.csv',\n",
       " './data/debt_collector_query_result/C._System.csv',\n",
       " './data/debt_collector_query_result/arrington_Mortgage_Services.csv',\n",
       " './data/debt_collector_query_result/Velocity_Investments.csv',\n",
       " './data/debt_collector_query_result/Michael_Andrews_&_Associates.csv',\n",
       " './data/debt_collector_query_result/Reverse_Mortgage_Funding.csv',\n",
       " './data/debt_collector_query_result/ollection_Center.csv',\n",
       " './data/debt_collector_query_result/enderLive_Network.csv',\n",
       " './data/debt_collector_query_result/American_Credit_Bureau.csv',\n",
       " './data/debt_collector_query_result/State_Collection_Service.csv',\n",
       " './data/debt_collector_query_result/Healthcare_Revenue_Recovery_Group.csv',\n",
       " './data/debt_collector_query_result/NATIONWIDE_CREDIT.csv',\n",
       " './data/debt_collector_query_result/EOS_USA.csv',\n",
       " './data/debt_collector_query_result/Waterfall_Revenue_Group.csv',\n",
       " './data/debt_collector_query_result/FirstCredit.csv',\n",
       " './data/debt_collector_query_result/Bayview_Loan_Servicing.csv',\n",
       " './data/debt_collector_query_result/Veripro_Solutions.csv',\n",
       " './data/debt_collector_query_result/Sequium_Asset_Solutions.csv',\n",
       " './data/debt_collector_query_result/Ray_Klei.csv',\n",
       " './data/debt_collector_query_result/New_Penn_Financial.csv',\n",
       " './data/debt_collector_query_result/redit_Corp_Solutions.csv',\n",
       " './data/debt_collector_query_result/endingPoint.csv',\n",
       " './data/debt_collector_query_result/Williams_&_Fudge.csv',\n",
       " './data/debt_collector_query_result/SIMM_Associates.csv',\n",
       " './data/debt_collector_query_result/USCB_Corporatio.csv',\n",
       " './data/debt_collector_query_result/PHH_Mortgage_Corporatio.csv',\n",
       " './data/debt_collector_query_result/FMS.csv',\n",
       " './data/debt_collector_query_result/Vantage_Sourcing.csv',\n",
       " './data/debt_collector_query_result/edars_Business_Services.csv',\n",
       " './data/debt_collector_query_result/RentDebt_Automated_Collections.csv',\n",
       " './data/debt_collector_query_result/Fair_Collections_&_Outsourcing_of_New_England.csv',\n",
       " './data/debt_collector_query_result/aliber_Home_Loans.csv',\n",
       " './data/debt_collector_query_result/ATG_Credit.csv',\n",
       " './data/debt_collector_query_result/REDIT_BUREAU_ASSOCIATES-NORTHEAST.csv',\n",
       " './data/debt_collector_query_result/Transworld_Systems.csv',\n",
       " './data/debt_collector_query_result/Exeter_Finance.csv',\n",
       " './data/debt_collector_query_result/Marois,_James,_Lee.csv',\n",
       " './data/debt_collector_query_result/SACOR_FINANCIAL.csv',\n",
       " './data/debt_collector_query_result/Seneca_Mortgage_Servicing.csv',\n",
       " './data/debt_collector_query_result/Phillips_&_Cohen_Associates.csv',\n",
       " './data/debt_collector_query_result/North_Shore_Agency.csv',\n",
       " './data/debt_collector_query_result/oanCare.csv',\n",
       " './data/debt_collector_query_result/Gatestone_&_Co._International.csv',\n",
       " './data/debt_collector_query_result/Q._DATA_INTERNATIONAL.csv',\n",
       " './data/debt_collector_query_result/entral_Credit_Services.csv',\n",
       " './data/debt_collector_query_result/AUDIT_SYSTEMS,IN.csv',\n",
       " './data/debt_collector_query_result/R.T.R._Financial_Services.csv',\n",
       " './data/debt_collector_query_result/Mirand_Response_Systems.csv',\n",
       " './data/debt_collector_query_result/entral_Portfolio_Control.csv',\n",
       " './data/debt_collector_query_result/ongbridge_Financial.csv',\n",
       " './data/debt_collector_query_result/UNIVERSAL_FIDELITY.csv',\n",
       " './data/debt_collector_query_result/Revco_Solutions.csv',\n",
       " './data/debt_collector_query_result/Security_Credit_Systems.csv',\n",
       " './data/debt_collector_query_result/Professional_Service_Bureau.csv',\n",
       " './data/debt_collector_query_result/Meragon_Financial_Services.csv',\n",
       " './data/debt_collector_query_result/Grimley_Financial_Corporatio.csv',\n",
       " './data/debt_collector_query_result/Santander_Consumer.csv',\n",
       " './data/debt_collector_query_result/BALANCED_HEALTHCARE_RECEIVABLES.csv',\n",
       " './data/debt_collector_query_result/Resurgent_Capital_Services.csv',\n",
       " './data/debt_collector_query_result/VIRTUOSO_SOURCING_GROUP.csv',\n",
       " './data/debt_collector_query_result/Thomas_George_Associates.csv',\n",
       " './data/debt_collector_query_result/oncord_Servicing_Corporatio.csv',\n",
       " './data/debt_collector_query_result/Remex.csv',\n",
       " './data/debt_collector_query_result/Global_Receivables_Solutions.csv',\n",
       " './data/debt_collector_query_result/Reverse_Mortgage_Solutions.csv',\n",
       " './data/debt_collector_query_result/ovate_Loan_Servicing_Corporatio.csv',\n",
       " './data/debt_collector_query_result/Merchants_Credit_Guide_Company.csv',\n",
       " './data/debt_collector_query_result/Dynamic_Recovery_Solutions.csv',\n",
       " './data/debt_collector_query_result/Unifund_Corporatio.csv',\n",
       " './data/debt_collector_query_result/Total_Card.csv',\n",
       " './data/debt_collector_query_result/NCC_Business_Services.csv',\n",
       " './data/debt_collector_query_result/eteris_Portfolio_Services.csv',\n",
       " './data/debt_collector_query_result/Tate_&_Kirlin_Associates.csv',\n",
       " './data/debt_collector_query_result/TruHome_Solutions.csv',\n",
       " './data/debt_collector_query_result/HomeBridge_Financial_Services.csv',\n",
       " './data/debt_collector_query_result/Berlin-Wheeler.csv',\n",
       " './data/debt_collector_query_result/Valon_Mortgage.csv',\n",
       " './data/debt_collector_query_result/ollection_Experts.csv',\n",
       " './data/debt_collector_query_result/Alltran_Financial.csv',\n",
       " './data/debt_collector_query_result/Glenn_Associates.csv',\n",
       " './data/debt_collector_query_result/Professional_Placement_Services.csv',\n",
       " './data/debt_collector_query_result/Automated_Collection_Services.csv',\n",
       " './data/debt_collector_query_result/U_Recovery.csv',\n",
       " './data/debt_collector_query_result/Southwest_Credit_Systems.csv',\n",
       " './data/debt_collector_query_result/Gila.csv',\n",
       " './data/debt_collector_query_result/Genpact_Collections.csv',\n",
       " './data/debt_collector_query_result/Alltran_Health.csv',\n",
       " './data/debt_collector_query_result/ognizant_Mortgage_Services_Corporatio.csv',\n",
       " './data/debt_collector_query_result/Resident_Advocate.csv',\n",
       " './data/debt_collector_query_result/Professional_Recovery_Consultants.csv',\n",
       " './data/debt_collector_query_result/Gregory_Funding.csv',\n",
       " './data/debt_collector_query_result/Valor_Intelligent_Processing.csv',\n",
       " './data/debt_collector_query_result/Financial_Asset_Management_Systems.csv',\n",
       " './data/debt_collector_query_result/Nationwide_Recovery_Service.csv',\n",
       " './data/debt_collector_query_result/Gragil_Associates.csv',\n",
       " './data/debt_collector_query_result/United_Resource_Systems.csv',\n",
       " './data/debt_collector_query_result/American_Credit_Management.csv',\n",
       " './data/debt_collector_query_result/Dyck-O_Neal.csv',\n",
       " './data/debt_collector_query_result/Kyanite_Services.csv',\n",
       " './data/debt_collector_query_result/Delta_Outsource_Group.csv',\n",
       " './data/debt_collector_query_result/Perch_Community_Solar.csv',\n",
       " './data/debt_collector_query_result/NTEGRA_SERVICING.csv',\n",
       " './data/debt_collector_query_result/Optimum_Outcomes.csv',\n",
       " './data/debt_collector_query_result/Second_Round_Limited_Partnership.csv',\n",
       " './data/debt_collector_query_result/Value_Recovery_Holding.csv',\n",
       " './data/debt_collector_query_result/vestinet.csv',\n",
       " './data/debt_collector_query_result/Alliant_Capital_Management.csv',\n",
       " './data/debt_collector_query_result/HECKredi_of_Kentucky.csv',\n",
       " './data/debt_collector_query_result/Zealandia_Capital.csv',\n",
       " './data/debt_collector_query_result/American_Recovery_Service_Incorporated.csv',\n",
       " './data/debt_collector_query_result/Selene_Finance.csv',\n",
       " './data/debt_collector_query_result/National_Recoveries.csv',\n",
       " './data/debt_collector_query_result/Associated_Credit_Services.csv',\n",
       " './data/debt_collector_query_result/Hunter_Warfield.csv',\n",
       " './data/debt_collector_query_result/B_Credit_Services.csv',\n",
       " './data/debt_collector_query_result/Allied_Interstate.csv',\n",
       " './data/debt_collector_query_result/D_&_A_Services.csv',\n",
       " './data/debt_collector_query_result/Real_Time_Resolutions.csv',\n",
       " './data/debt_collector_query_result/Freedom_Mortgage_Corporatio.csv',\n",
       " './data/debt_collector_query_result/FirstPoint_Collection_Resources.csv',\n",
       " './data/debt_collector_query_result/Professional_Debt_Mediatio.csv',\n",
       " './data/debt_collector_query_result/avalry_Portfolio_Services.csv',\n",
       " './data/debt_collector_query_result/Sarma_Collections.csv',\n",
       " './data/debt_collector_query_result/HTX_REALTY.csv',\n",
       " './data/debt_collector_query_result/Alltran_Educatio.csv',\n",
       " './data/debt_collector_query_result/omputer_Credit.csv',\n",
       " './data/debt_collector_query_result/apital_Accounts.csv',\n",
       " './data/debt_collector_query_result/ollection_Management_Company.csv',\n",
       " './data/debt_collector_query_result/Admin_Recovery.csv',\n",
       " './data/debt_collector_query_result/omstar.csv',\n",
       " './data/debt_collector_query_result/Nationstar_Mortgage.csv',\n",
       " './data/debt_collector_query_result/Atlantic_Collection_Agency.csv',\n",
       " './data/debt_collector_query_result/Accounts_Receivable_Technologies.csv',\n",
       " './data/debt_collector_query_result/Americollect.csv',\n",
       " './data/debt_collector_query_result/First_Financial_Resources.csv',\n",
       " './data/debt_collector_query_result/ARS_National_Services.csv',\n",
       " './data/debt_collector_query_result/Syndicated_Office_Systems.csv',\n",
       " './data/debt_collector_query_result/Quantum_Servicing_Corporatio.csv',\n",
       " './data/debt_collector_query_result/American_Profit_Recovery.csv',\n",
       " './data/debt_collector_query_result/TCS_e-Serve_International_Limited.csv',\n",
       " './data/debt_collector_query_result/ontinental_Service_Group.csv',\n",
       " './data/debt_collector_query_result/Home_Point_Financial_Corporatio.csv',\n",
       " './data/debt_collector_query_result/AMERICAN_ADJUSTMENT_BUREAU,INC.csv',\n",
       " './data/debt_collector_query_result/BYL_Services.csv',\n",
       " './data/debt_collector_query_result/Professional_Account_Management.csv',\n",
       " './data/debt_collector_query_result/NCB_Management_Services.csv',\n",
       " './data/debt_collector_query_result/Nations_Recovery_Center.csv',\n",
       " './data/debt_collector_query_result/Synergetic_Communicatio.csv',\n",
       " './data/debt_collector_query_result/Stevens_Business_Service.csv',\n",
       " './data/debt_collector_query_result/MEDICREDIT.csv',\n",
       " './data/debt_collector_query_result/Siwell.csv',\n",
       " './data/debt_collector_query_result/Upgrade.csv',\n",
       " './data/debt_collector_query_result/Genpact_Services.csv',\n",
       " './data/debt_collector_query_result/Rushmore_Service_Center.csv',\n",
       " './data/debt_collector_query_result/Five_Brothers_Mortgage_Company_Services_and_Securing.csv',\n",
       " './data/debt_collector_query_result/BE_Customer_Solutions.csv',\n",
       " './data/debt_collector_query_result/Reliant_Capital_Solutions.csv',\n",
       " './data/debt_collector_query_result/Brown_&_Joseph.csv',\n",
       " './data/debt_collector_query_result/mmediate_Credit_Recovery.csv',\n",
       " './data/debt_collector_query_result/Receivables_Outsourcing.csv',\n",
       " './data/debt_collector_query_result/Vital_Recovery_Services.csv',\n",
       " './data/debt_collector_query_result/R.M._Galicia.csv',\n",
       " './data/debt_collector_query_result/ONRAD_CREDIT_CORPORATION.csv',\n",
       " './data/debt_collector_query_result/A.R.C._Accounts_Recovery.csv',\n",
       " './data/debt_collector_query_result/The_Law_Office_of_John_P._Frye.csv',\n",
       " './data/debt_collector_query_result/AINE_&_WEINER_COMPANY.csv',\n",
       " './data/debt_collector_query_result/apital_Collection_Management.csv',\n",
       " './data/debt_collector_query_result/Kondaur_Capital_Corporatio.csv',\n",
       " './data/debt_collector_query_result/Select_Portfolio_Servicing.csv',\n",
       " './data/debt_collector_query_result/Seattle_Service_Bureau.csv',\n",
       " './data/debt_collector_query_result/PRA_Receivables_Management.csv',\n",
       " './data/debt_collector_query_result/Freedom_Loan_Services_Corporatio.csv',\n",
       " './data/debt_collector_query_result/Rushmore_Loan_Management_Services.csv',\n",
       " './data/debt_collector_query_result/Financial_Recovery_Services.csv',\n",
       " './data/debt_collector_query_result/ACQUIRED_ASSETS.csv',\n",
       " './data/debt_collector_query_result/Spring_Oaks_Capital.csv',\n",
       " './data/debt_collector_query_result/redit_Information_Bureau.csv',\n",
       " './data/debt_collector_query_result/ternational_Computer_Systems.csv',\n",
       " './data/debt_collector_query_result/Twin_Oaks_Software_Development.csv',\n",
       " './data/debt_collector_query_result/General_Revenue_Corporatio.csv',\n",
       " './data/debt_collector_query_result/Radius_Global_Solutions.csv',\n",
       " './data/debt_collector_query_result/Solomon_and_Solomon.csv',\n",
       " './data/debt_collector_query_result/Specialized_Loan_Servicing.csv',\n",
       " './data/debt_collector_query_result/Harris_&_Harris_of_Illinois.csv',\n",
       " './data/debt_collector_query_result/Adler_Wallach_&_Associates.csv',\n",
       " './data/debt_collector_query_result/Veterans_Financial_Management_Group.csv',\n",
       " './data/debt_collector_query_result/Glass_Mountain_Capital.csv',\n",
       " './data/debt_collector_query_result/Media_Collections.csv',\n",
       " './data/debt_collector_query_result/Sourcepoint.csv',\n",
       " './data/debt_collector_query_result/The_Affiliated_Group.csv',\n",
       " './data/debt_collector_query_result/Receivable_Management_Corporatio.csv',\n",
       " './data/debt_collector_query_result/Frost-Arnett_Company.csv',\n",
       " './data/debt_collector_query_result/REDENCE_RESOURCE_MANAGEMENT.csv',\n",
       " './data/debt_collector_query_result/Alpha_Recovery_Corp.csv',\n",
       " './data/debt_collector_query_result/The_Allen_Daniel_Associates.csv',\n",
       " './data/debt_collector_query_result/S_FINANCIAL_SERVICES_CORPORATION.csv',\n",
       " './data/debt_collector_query_result/Source_Receivables_Management.csv',\n",
       " './data/debt_collector_query_result/Sierra_Pacific_Mortgage_Company.csv',\n",
       " './data/debt_collector_query_result/RENT_RECOVERY_SOLUTIONS.csv',\n",
       " './data/debt_collector_query_result/endUS.csv',\n",
       " './data/debt_collector_query_result/FMA_Alliance.csv',\n",
       " './data/debt_collector_query_result/Professional_Finance_Company.csv',\n",
       " './data/debt_collector_query_result/Stuart-Lippman_and_Associates.csv',\n",
       " './data/debt_collector_query_result/J_Ross_Associates.csv',\n",
       " './data/debt_collector_query_result/ollection_Technology_Incorporated.csv',\n",
       " './data/debt_collector_query_result/Salary_Finance.csv',\n",
       " './data/debt_collector_query_result/Debt_Recovery_Solutions.csv',\n",
       " './data/debt_collector_query_result/NewRez.csv',\n",
       " './data/debt_collector_query_result/R.A._Rogers.csv',\n",
       " './data/debt_collector_query_result/Windham_Professionals.csv',\n",
       " './data/debt_collector_query_result/Astra_Business_Services_Private_Limited.csv',\n",
       " './data/debt_collector_query_result/Diversified_Recovery_Bureau.csv',\n",
       " './data/debt_collector_query_result/Pioneer_Credit_Recovery.csv',\n",
       " './data/debt_collector_query_result/HOVG.csv',\n",
       " './data/debt_collector_query_result/21st_Mortgage_Corporatio.csv',\n",
       " './data/debt_collector_query_result/ARS_Portfolio_Services.csv',\n",
       " './data/debt_collector_query_result/Planet_Home_Lending.csv',\n",
       " './data/debt_collector_query_result/Receivables_Management_Associates.csv',\n",
       " './data/debt_collector_query_result/Advanced_Financial_Company.csv',\n",
       " './data/debt_collector_query_result/Reliant_Loan_Servicing.csv',\n",
       " './data/debt_collector_query_result/Sage_Capital_Recovery.csv',\n",
       " './data/debt_collector_query_result/National_Enterprise_Systems.csv',\n",
       " './data/debt_collector_query_result/Statewide_Credit_Services_Corp.csv',\n",
       " './data/debt_collector_query_result/Aspire_Resources.csv',\n",
       " './data/debt_collector_query_result/Genpact.csv',\n",
       " './data/debt_collector_query_result/Roadrunner_Account_Services.csv',\n",
       " './data/debt_collector_query_result/TaxServ_Capital_Services.csv',\n",
       " './data/debt_collector_query_result/JP_RECOVERY_SERVICES.csv',\n",
       " './data/debt_collector_query_result/BANCfee.csv',\n",
       " './data/debt_collector_query_result/Performant_Recovery.csv',\n",
       " './data/debt_collector_query_result/redit_Bureau_Collection_Services.csv',\n",
       " './data/debt_collector_query_result/Malcolm_S._Gerald_&_Associates.csv',\n",
       " './data/debt_collector_query_result/AscensionPoint_Recovery_Services.csv',\n",
       " './data/debt_collector_query_result/James_M_Smallis.csv',\n",
       " './data/debt_collector_query_result/AllianceOne_Receivables_Management.csv',\n",
       " './data/debt_collector_query_result/Accenture_Solutions_Private_Limited.csv',\n",
       " './data/debt_collector_query_result/Zeger_Corp.csv',\n",
       " './data/debt_collector_query_result/Vervent.csv',\n",
       " './data/debt_collector_query_result/The_Traf_Group.csv',\n",
       " './data/debt_collector_query_result/TD_Financial_Services.csv',\n",
       " './data/debt_collector_query_result/Block_Capital_Services.csv',\n",
       " './data/debt_collector_query_result/Financial_Assistance.csv',\n",
       " './data/debt_collector_query_result/Franklin_Service.csv',\n",
       " './data/debt_collector_query_result/National_Creditors_Connectio.csv',\n",
       " './data/debt_collector_query_result/Bell_&_Williams_Associates.csv',\n",
       " './data/debt_collector_query_result/DEVA.csv',\n",
       " './data/debt_collector_query_result/Westlake_Portfolio_Management.csv',\n",
       " './data/debt_collector_query_result/yon_Collection_Services.csv',\n",
       " './data/debt_collector_query_result/Waypoint_Resource_Group.csv',\n",
       " './data/debt_collector_query_result/apital_For_Change.csv',\n",
       " './data/debt_collector_query_result/BC_SERVICES.csv',\n",
       " './data/debt_collector_query_result/MRS_BPO.csv',\n",
       " './data/debt_collector_query_result/Torres_Credit_Services.csv',\n",
       " './data/debt_collector_query_result/National_Commercial_Services.csv',\n",
       " './data/debt_collector_query_result/endingClub_Corporatio.csv',\n",
       " './data/debt_collector_query_result/oncord_Servicing.csv',\n",
       " './data/debt_collector_query_result/ARstrat.csv',\n",
       " './data/debt_collector_query_result/and_Home_Financial_Services.csv',\n",
       " './data/debt_collector_query_result/Tata_Consultancy_Services.csv',\n",
       " './data/debt_collector_query_result/ollection_Bureau_of_the_Hudson_Valley.csv',\n",
       " './data/debt_collector_query_result/onvergent_Outsourcing.csv',\n",
       " './data/debt_collector_query_result/arson_Smithfield.csv',\n",
       " './data/debt_collector_query_result/Servis_One.csv',\n",
       " './data/debt_collector_query_result/SN_Servicing_Corporatio.csv',\n",
       " './data/debt_collector_query_result/National_Asset_Mortgage.csv',\n",
       " './data/debt_collector_query_result/Fay_Servicing.csv',\n",
       " './data/debt_collector_query_result/Members_Mortgage_Company.csv',\n",
       " './data/debt_collector_query_result/Financial_Business_and_Consumer_Solutions.csv',\n",
       " './data/debt_collector_query_result/AXIS_FINANCIAL_SERVICES.csv',\n",
       " './data/debt_collector_query_result/ommunity_Cash_Management.csv',\n",
       " './data/debt_collector_query_result/Receivable_Management_Service-Recovery_Divisio.csv',\n",
       " './data/debt_collector_query_result/Aldous_&_Associates_P.csv',\n",
       " './data/debt_collector_query_result/All_Debt_Solutions.csv',\n",
       " './data/debt_collector_query_result/Alliance_Collection_Agencies.csv',\n",
       " './data/debt_collector_query_result/Encore_Receivable_Management.csv',\n",
       " './data/debt_collector_query_result/Debted_USA.csv',\n",
       " './data/debt_collector_query_result/Bull_City_Financial_Solutions.csv',\n",
       " './data/debt_collector_query_result/MRE_Financial_Services.csv',\n",
       " './data/debt_collector_query_result/Harris_&_Harris.csv',\n",
       " './data/debt_collector_query_result/ommunity_Cash_Management_Corporatio.csv',\n",
       " './data/debt_collector_query_result/Atlantic_Credit_&_Finance.csv',\n",
       " './data/debt_collector_query_result/onstar_International.csv',\n",
       " './data/debt_collector_query_result/Broker_Solutions.csv',\n",
       " './data/debt_collector_query_result/Unifi.csv',\n",
       " './data/debt_collector_query_result/HCL_Lending_Solutions.csv',\n",
       " './data/debt_collector_query_result/NRA_Group.csv',\n",
       " './data/debt_collector_query_result/aunch_Servicing.csv',\n",
       " './data/debt_collector_query_result/Monarch_Recovery_Management.csv',\n",
       " './data/debt_collector_query_result/Van_Ru_Credit_Corporatio.csv',\n",
       " './data/debt_collector_query_result/Global_Payments_Check_Services.csv',\n",
       " './data/debt_collector_query_result/RedBrick_Financial_Group.csv',\n",
       " './data/debt_collector_query_result/ollection_Bureau_of_America.csv',\n",
       " './data/debt_collector_query_result/MS_SERVICES.csv',\n",
       " './data/debt_collector_query_result/Arcon_Credit_Solutions.csv',\n",
       " './data/debt_collector_query_result/Nationwide_Recovery_Systems.csv',\n",
       " './data/debt_collector_query_result/Ability_Recovery_Services.csv',\n",
       " './data/debt_collector_query_result/Terrill_Outsourcing_Group.csv',\n",
       " './data/debt_collector_query_result/Receivables_Performance_Management.csv',\n",
       " './data/debt_collector_query_result/Waterfront_Capital.csv',\n",
       " './data/debt_collector_query_result/First_Financial_Asset_Management.csv',\n",
       " './data/debt_collector_query_result/BYL_Collection_Services.csv',\n",
       " './data/debt_collector_query_result/lient_Services.csv',\n",
       " './data/debt_collector_query_result/Arcadia_Recovery_Bureau.csv',\n",
       " './data/debt_collector_query_result/RoundPoint_Mortgage_Servicing.csv',\n",
       " './data/debt_collector_query_result/Tri-State_Adjustments.csv',\n",
       " './data/debt_collector_query_result/West_Coast_Servicing.csv',\n",
       " './data/debt_collector_query_result/Quicken_Loans.csv',\n",
       " './data/debt_collector_query_result/Sortis_Financial.csv',\n",
       " './data/debt_collector_query_result/Amsher_Collection_Services.csv',\n",
       " './data/debt_collector_query_result/The_Best_Service.csv',\n",
       " './data/debt_collector_query_result/ommonwealth_Financial_Systems.csv',\n",
       " './data/debt_collector_query_result/Viking_Client_Services.csv',\n",
       " './data/debt_collector_query_result/redit_Resolutions.csv',\n",
       " './data/debt_collector_query_result/SC_Logi.csv',\n",
       " './data/debt_collector_query_result/Alternative_Collections.csv',\n",
       " './data/debt_collector_query_result/Account_Discovery_Systems.csv',\n",
       " './data/debt_collector_query_result/P&B_Capital_Group.csv',\n",
       " './data/debt_collector_query_result/MedConn_Collection_Agency.csv',\n",
       " './data/debt_collector_query_result/Turnstile_Capital_Management.csv',\n",
       " './data/debt_collector_query_result/Midland_Credit_Management.csv',\n",
       " './data/debt_collector_query_result/redit_Adjustments.csv',\n",
       " './data/debt_collector_query_result/Accounts_Receivable_Automated_Solutions.csv',\n",
       " './data/debt_collector_query_result/Ocwen_USVI_Services.csv',\n",
       " './data/debt_collector_query_result/Amos_Financial.csv',\n",
       " './data/debt_collector_query_result/Medical_Data_Systems.csv',\n",
       " './data/debt_collector_query_result/New_Credit_America.csv',\n",
       " './data/debt_collector_query_result/McCarthy,_Burgess_&_Wolff.csv',\n",
       " './data/debt_collector_query_result/tellishore_Corporation.csv',\n",
       " './data/debt_collector_query_result/Ocwen_Financial_Solutions_Private_Limited.csv',\n",
       " './data/debt_collector_query_result/PINNACLE_RECOVERY.csv',\n",
       " './data/debt_collector_query_result/Universal_Component_Lender_Services.csv',\n",
       " './data/debt_collector_query_result/omplete_Payment_Recovery_Services.csv',\n",
       " './data/debt_collector_query_result/Diversified_Consultants.csv',\n",
       " './data/debt_collector_query_result/Account_Control_Technology.csv',\n",
       " './data/debt_collector_query_result/Diversified_Adjustment_Service.csv',\n",
       " './data/debt_collector_query_result/National_Recovery_Solutions.csv',\n",
       " './data/debt_collector_query_result/First_National_Collection_Bureau.csv',\n",
       " './data/debt_collector_query_result/Niagara_Credit_Solutions.csv',\n",
       " './data/debt_collector_query_result/GITSIT_SOLUTIONS.csv',\n",
       " './data/debt_collector_query_result/TRS_Recovery_Services.csv',\n",
       " './data/debt_collector_query_result/Service_Finance_Company.csv',\n",
       " './data/debt_collector_query_result/Systems_&_Services_Technologies.csv',\n",
       " './data/debt_collector_query_result/oastal_Settlement_Recovery.csv',\n",
       " './data/debt_collector_query_result/American_Neighborhood_Mortgage_Acceptance_Company.csv',\n",
       " './data/debt_collector_query_result/HARVARD_FUNDING.csv',\n",
       " './data/debt_collector_query_result/Apelles.csv',\n",
       " './data/debt_collector_query_result/FrontLine_Asset_Strategies.csv',\n",
       " './data/debt_collector_query_result/Optio_Solutions.csv',\n",
       " './data/debt_collector_query_result/Franklin_Collection_Service.csv',\n",
       " './data/debt_collector_query_result/ONTRACT_CALLERS_IN.csv',\n",
       " './data/debt_collector_query_result/arrington_Resolution_Services.csv',\n",
       " './data/debt_collector_query_result/ServiceMa.csv',\n",
       " './data/debt_collector_query_result/awley_&_Bergma.csv',\n",
       " './data/debt_collector_query_result/Divine_and_Service.csv',\n",
       " './data/debt_collector_query_result/Northstar_Location_Services.csv',\n",
       " './data/debt_collector_query_result/Vanderbilt_Mortgage_and_Finance.csv',\n",
       " './data/debt_collector_query_result/National_Financial_Group.csv',\n",
       " './data/debt_collector_query_result/Sentry_Credit.csv',\n",
       " './data/debt_collector_query_result/Tru-Contact_Incorporated.csv',\n",
       " './data/debt_collector_query_result/USCB.csv',\n",
       " './data/debt_collector_query_result/One_Advantage.csv',\n",
       " './data/debt_collector_query_result/REDIT_WORLD_SERVICES.csv',\n",
       " './data/debt_collector_query_result/ONLINE_Information_Services.csv',\n",
       " './data/debt_collector_query_result/Bass_&_Associates.csv',\n",
       " './data/debt_collector_query_result/Midland_Funding.csv',\n",
       " './data/debt_collector_query_result/Zenta_Recoveries.csv',\n",
       " './data/debt_collector_query_result/A.R.M._Solutions.csv',\n",
       " './data/debt_collector_query_result/Vengroff_Williams.csv',\n",
       " './data/debt_collector_query_result/Recovery_Management_Solutions.csv',\n",
       " './data/debt_collector_query_result/American_Credit_Acceptance.csv',\n",
       " './data/debt_collector_query_result/F.H._Cann_&_Associates.csv',\n",
       " './data/debt_collector_query_result/Grand_Vacations_Services.csv',\n",
       " './data/debt_collector_query_result/PennyMac_Loan_Services.csv',\n",
       " './data/debt_collector_query_result/AMONT_HANLEY_&_ASSOCIATES_IN.csv',\n",
       " './data/debt_collector_query_result/January_Technologies.csv',\n",
       " './data/debt_collector_query_result/Texas_Guaranteed_Student_Loan_Corporatio.csv',\n",
       " './data/debt_collector_query_result/Gulf_Coast_Collection_Bureau.csv',\n",
       " './data/debt_collector_query_result/ZuntaFi_Corp.csv',\n",
       " './data/debt_collector_query_result/ompu-Link_Corporatio.csv',\n",
       " './data/debt_collector_query_result/THE_MONEY_SOURCE.csv',\n",
       " './data/debt_collector_query_result/Allied_Collection_Services.csv',\n",
       " './data/debt_collector_query_result/amont,_Hanley_&_Associates.csv',\n",
       " './data/debt_collector_query_result/United_Collection_Bureau.csv',\n",
       " './data/debt_collector_query_result/Receivables_Management_Partners.csv',\n",
       " './data/debt_collector_query_result/Javitch_Block.csv',\n",
       " './data/debt_collector_query_result/Action_Financial_Services.csv',\n",
       " './data/debt_collector_query_result/Urban_Fulfillment_Services.csv',\n",
       " './data/debt_collector_query_result/Mercantile_Adjustment_Bureau.csv',\n",
       " './data/debt_collector_query_result/SRA_Associates.csv',\n",
       " './data/debt_collector_query_result/AHP_Servicing.csv',\n",
       " './data/debt_collector_query_result/Prince-Parker_&_Associates.csv',\n",
       " './data/debt_collector_query_result/Merchants_&_Medical_Credit_Corporatio.csv',\n",
       " './data/debt_collector_query_result/GC_Services_Limited_Partnership.csv',\n",
       " './data/debt_collector_query_result/Debt_Management.csv',\n",
       " './data/debt_collector_query_result/Asset_Recovery_Solutions.csv',\n",
       " './data/debt_collector_query_result/Madison_Management_Services.csv',\n",
       " './data/debt_collector_query_result/ElectroMedical_Associates.csv',\n",
       " './data/debt_collector_query_result/DCM_Services.csv',\n",
       " './data/debt_collector_query_result/ore_Recoveries.csv',\n",
       " './data/debt_collector_query_result/Financial_Corporation_of_America.csv',\n",
       " './data/debt_collector_query_result/WESTERN_MASS_CREDIT_CORP.csv',\n",
       " './data/debt_collector_query_result/PROFESSIONAL_MANAGEMENT_CORP.csv',\n",
       " './data/debt_collector_query_result/FMS_Investment_Corp.csv',\n",
       " './data/debt_collector_query_result/Penn_Credit_Corporatio.csv',\n",
       " './data/debt_collector_query_result/Premiere_Credit_of_North_America.csv',\n",
       " './data/debt_collector_query_result/Merchants_Association_Collection_Divisio.csv',\n",
       " './data/debt_collector_query_result/Afni.csv',\n",
       " './data/debt_collector_query_result/Palisades_Collection.csv',\n",
       " './data/debt_collector_query_result/Jefferson_Capital_Systems.csv',\n",
       " './data/debt_collector_query_result/OneMain_Consumer_Loa.csv',\n",
       " './data/debt_collector_query_result/CT_Accounts_Receivable_Management.csv',\n",
       " './data/debt_collector_query_result/Recovery_Management_Services.csv',\n",
       " './data/debt_collector_query_result/Action_Collection_Agencies.csv',\n",
       " './data/debt_collector_query_result/Unique_Management_Services.csv',\n",
       " './data/debt_collector_query_result/ALW_Sourcing.csv',\n",
       " './data/debt_collector_query_result/Andrew_Metcalf.csv',\n",
       " './data/debt_collector_query_result/POM_Recoveries.csv',\n",
       " './data/debt_collector_query_result/EGS_Financial_Care.csv',\n",
       " './data/debt_collector_query_result/Higher_Education_Loan_Authority_of_the_state_of_Missouri.csv',\n",
       " './data/debt_collector_query_result/The_Cadle_Company.csv',\n",
       " './data/debt_collector_query_result/The_Commercial_Collection_Corporation_of_New_York.csv',\n",
       " './data/debt_collector_query_result/All_Cape_Cod_&_Islands_Collection_Service.csv',\n",
       " './data/debt_collector_query_result/First_Credit_Services.csv',\n",
       " './data/debt_collector_query_result/FCI_Lender_Services.csv',\n",
       " './data/debt_collector_query_result/Peter_Roberts_&_Associates.csv',\n",
       " './data/debt_collector_query_result/Nationwide_Credit_Corporatio.csv',\n",
       " './data/debt_collector_query_result/Allied_Account_Services.csv',\n",
       " './data/debt_collector_query_result/redit_Control_Services.csv',\n",
       " './data/debt_collector_query_result/Sequoia_Concepts.csv',\n",
       " './data/debt_collector_query_result/entral_Research.csv',\n",
       " './data/debt_collector_query_result/OCKHART,_MORRIS_&_MONTGOMERY.csv',\n",
       " './data/debt_collector_query_result/TrueAccord_Corp.csv',\n",
       " './data/debt_collector_query_result/National_Credit_Systems.csv',\n",
       " './data/debt_collector_query_result/Southwest_Stage_Funding.csv',\n",
       " './data/debt_collector_query_result/Portfolio_Recovery_Associates.csv',\n",
       " './data/debt_collector_query_result/OAST_PROFESSIONAL.csv',\n",
       " './data/debt_collector_query_result/DTG_Holdings.csv',\n",
       " './data/debt_collector_query_result/Hollis_Cobb_Associates.csv',\n",
       " './data/debt_collector_query_result/ommunity_Loan_Servicing.csv',\n",
       " './data/debt_collector_query_result/Wilber_Insurance_Services_Enterprise.csv',\n",
       " './data/debt_collector_query_result/OneMain_Mortgage_Services.csv',\n",
       " './data/debt_collector_query_result/Peritus_Portfolio_Services.csv',\n",
       " './data/debt_collector_query_result/onstar_Financial_Services.csv',\n",
       " './data/debt_collector_query_result/Goldberg_&_Donova.csv',\n",
       " './data/debt_collector_query_result/Everest_Receivable_Services.csv',\n",
       " './data/debt_collector_query_result/Peak_Professionals.csv',\n",
       " './data/debt_collector_query_result/Allied_International_Credit_Corp.csv',\n",
       " './data/debt_collector_query_result/Finance_of_America_Mortgage.csv',\n",
       " './data/debt_collector_query_result/apital_Management_Services.csv',\n",
       " './data/debt_collector_query_result/Bonded_Collection_Corporatio.csv',\n",
       " './data/debt_collector_query_result/States_Recovery_Systems.csv',\n",
       " './data/debt_collector_query_result/AmeriNational_Community_Services.csv',\n",
       " './data/debt_collector_query_result/Phoenix_Financial_Services.csv',\n",
       " './data/debt_collector_query_result/Eastern_Account_System_of_Connecticut.csv',\n",
       " './data/debt_collector_query_result/Weltman,_Weinberg_&_Reis_Co..csv',\n",
       " './data/debt_collector_query_result/Village_Capital_&_Investment.csv',\n",
       " './data/debt_collector_query_result/ollecto.csv',\n",
       " './data/debt_collector_query_result/Ocwen_Loan_Servicing.csv',\n",
       " './data/debt_collector_query_result/RUI_Credit_Services.csv',\n",
       " './data/debt_collector_query_result/JNR_Adjustment_Company.csv',\n",
       " './data/debt_collector_query_result/Rocket_Mortgage.csv',\n",
       " './data/debt_collector_query_result/ONTINENTAL_CENTRAL_CREDIT_OF_MASSACHUSETTS_IN.csv',\n",
       " './data/debt_collector_query_result/onnect_International.csv',\n",
       " './data/debt_collector_query_result/Yes_Online.csv',\n",
       " './data/debt_collector_query_result/Todd,_Bremer_&_Lawso.csv',\n",
       " './data/debt_collector_query_result/Moder_Solutions.csv',\n",
       " './data/debt_collector_query_result/Ditech_Financial.csv',\n",
       " './data/debt_collector_query_result/Stuart_-_Lippman_and_Associates.csv',\n",
       " './data/debt_collector_query_result/redit_Protection_Association.csv',\n",
       " './data/debt_collector_query_result/Republic_Equity_Credit_Services.csv',\n",
       " './data/debt_collector_query_result/Monterey_Financial_Services.csv',\n",
       " './data/debt_collector_query_result/Spruce_Lending.csv',\n",
       " './data/debt_collector_query_result/RGS_Financial.csv',\n",
       " './data/debt_collector_query_result/arter_Business_Service.csv',\n",
       " './data/debt_collector_query_result/Benuck_&_Rainey.csv',\n",
       " './data/debt_collector_query_result/Estate_Information_Services.csv',\n",
       " './data/debt_collector_query_result/redit_Management.csv',\n",
       " './data/debt_collector_query_result/Eastpoint_Recovery_Group.csv',\n",
       " './data/debt_collector_query_result/Five_Lakes_Agency.csv',\n",
       " './data/debt_collector_query_result/oastal_Medical_Billing.csv']"
      ]
     },
     "execution_count": 2,
     "metadata": {},
     "output_type": "execute_result"
    }
   ],
   "source": [
    "# List of csv files directories\n",
    "csv_dirs = glob.glob(\"./data/debt_collector_query_result/*\")\n",
    "# ['query_num', 'post_id', 'party_name', 'case_number', 'case_type', 'case_status', 'file_date', 'status_date']\n",
    "csv_dirs"
   ]
  },
  {
   "cell_type": "code",
   "execution_count": null,
   "metadata": {},
   "outputs": [],
   "source": []
  },
  {
   "cell_type": "code",
   "execution_count": 3,
   "metadata": {},
   "outputs": [],
   "source": [
    "def analyze_bank(filepath):\n",
    "    total_count = 0\n",
    "    case_type = {}\n",
    "    case_status = {}\n",
    "    \n",
    "    date_filed = {}\n",
    "    #for i in range(1990, 2025):\n",
    "    #    date_filed[i] = 0\n",
    "    \n",
    "    with open(filepath, \"r\") as f:\n",
    "        reader = csv.reader(f)\n",
    "        header = next(reader)\n",
    "        \n",
    "        for entry in reader:\n",
    "            total_count += 1\n",
    "            \n",
    "            #update case type\n",
    "            if entry[4] in case_type:\n",
    "                case_type[entry[4]] += 1\n",
    "            else:\n",
    "                case_type[entry[4]] = 1\n",
    "            \n",
    "            #update case status\n",
    "            if entry[5] in case_status:\n",
    "                case_status[entry[5]] += 1\n",
    "            else:\n",
    "                case_status[entry[5]] = 1\n",
    "                \n",
    "            #update date\n",
    "            if int(entry[6][:4]) in date_filed:\n",
    "                date_filed[int(entry[6][:4])] += 1\n",
    "            else:\n",
    "                date_filed[int(entry[6][:4])] = 1\n",
    "\n",
    "            #date_filed[int(entry[5][:4])] += 1\n",
    "                \n",
    "        \n",
    "    \n",
    "    return [total_count, case_type, case_status, date_filed]"
   ]
  },
  {
   "cell_type": "code",
   "execution_count": 4,
   "metadata": {},
   "outputs": [],
   "source": [
    "def plot_dict_bar(d):\n",
    "    #d = sorted(d, key=lambda a: d[a])\n",
    "    #print(d)\n",
    "    \n",
    "    labels = []\n",
    "    sizes = []\n",
    "    \n",
    "    for x, y in d.items():\n",
    "        labels.append(x)\n",
    "        sizes.append(y)\n",
    "    \n",
    "    # Plot\n",
    "    plt.bar(labels, sizes)\n",
    "    plt.xticks(rotation=90)\n",
    "    plt.show()"
   ]
  },
  {
   "cell_type": "code",
   "execution_count": 5,
   "metadata": {},
   "outputs": [],
   "source": [
    "def plot_dict_pie(d):\n",
    "    #d = sorted(d, key=lambda a: d[a])\n",
    "    #print(d)\n",
    "    \n",
    "    labels = []\n",
    "    sizes = []\n",
    "    \n",
    "    for x, y in d.items():\n",
    "        labels.append(x)\n",
    "        sizes.append(y)\n",
    "        \n",
    "    labels = [f'{l}, {s:0.1f}' for l, s in zip(labels, sizes)]\n",
    "    \n",
    "    # Plot\n",
    "    plt.pie(x=sizes)\n",
    "    plt.legend(labels, loc=5)\n",
    "    plt.show()"
   ]
  },
  {
   "cell_type": "code",
   "execution_count": 6,
   "metadata": {},
   "outputs": [
    {
     "data": {
      "image/png": "[encoded data removed]",
      "text/plain": [
       "<Figure size 640x480 with 1 Axes>"
      ]
     },
     "metadata": {},
     "output_type": "display_data"
    },
    {
     "data": {
      "image/png": "[encoded data removed]",
      "text/plain": [
       "<Figure size 640x480 with 1 Axes>"
      ]
     },
     "metadata": {},
     "output_type": "display_data"
    }
   ],
   "source": [
    "[total_count, case_type, case_status, _] = analyze_bank(csv_dirs[0])\n",
    "plot_dict_pie(case_type)\n",
    "plot_dict_pie(case_status)"
   ]
  },
  {
   "cell_type": "code",
   "execution_count": 7,
   "metadata": {},
   "outputs": [
    {
     "name": "stdout",
     "output_type": "stream",
     "text": [
      "[86, {'Small Claims': 70, 'Civil': 14, 'Supplementary Process': 2}, {'Disposed (Statistical Purposes)': 85, 'Pending': 1}, {2011: 3, 2008: 66, 2007: 13, 2006: 3, 2010: 1}]\n"
     ]
    }
   ],
   "source": [
    "all_info = {}\n",
    "for path in csv_dirs:\n",
    "    all_info[path] = analyze_bank(path)\n",
    "    \n",
    "print(all_info[\"./data/debt_collector_query_result/American_Profit_Recovery.csv\"])\n",
    "\n"
   ]
  },
  {
   "cell_type": "code",
   "execution_count": 8,
   "metadata": {},
   "outputs": [],
   "source": [
    "# Total cases for each banks\n",
    "case_count = [(bank_name, all_info[bank_name][0]) for bank_name in all_info.keys()]\n",
    "\n",
    "s_cases = sorted(case_count, key = lambda x : x[1], reverse=True)\n",
    "df = pd.DataFrame(data=dict(s_cases), index=[0])\n",
    "df = df.T\n",
    "df.to_excel('dict1.xlsx')"
   ]
  },
  {
   "cell_type": "code",
   "execution_count": 9,
   "metadata": {},
   "outputs": [],
   "source": [
    "# Case types for all companies\n",
    "case_type_count = []\n",
    "for bank_name in all_info.keys():\n",
    "    case_types = all_info[bank_name][1]\n",
    "    case_types['company_name'] = bank_name\n",
    "    case_type_count += [case_types]\n",
    "    \n",
    "#case_type_count\n",
    "df = pd.DataFrame(case_type_count)\n",
    "df.replace(np.nan,0)\n",
    "df.to_excel(\"case_type_count.xlsx\")  "
   ]
  },
  {
   "cell_type": "code",
   "execution_count": 10,
   "metadata": {},
   "outputs": [
    {
     "name": "stdout",
     "output_type": "stream",
     "text": [
      "Company name: ./data/debt_collector_query_result/Midland_Funding.csv\n",
      "Total case count: 215179\n"
     ]
    },
    {
     "ename": "ValueError",
     "evalue": "Unknown format code 'f' for object of type 'str'",
     "output_type": "error",
     "traceback": [
      "\u001b[0;31m---------------------------------------------------------------------------\u001b[0m",
      "\u001b[0;31mValueError\u001b[0m                                Traceback (most recent call last)",
      "\u001b[0;32m/var/folders/_8/cqvvyrw50wvdxhfrz9rl6v_00000gn/T/ipykernel_49358/2054863323.py\u001b[0m in \u001b[0;36m<module>\u001b[0;34m\u001b[0m\n\u001b[1;32m      4\u001b[0m \u001b[0mprint\u001b[0m\u001b[0;34m(\u001b[0m\u001b[0;34mf\"Company name: {path}\"\u001b[0m\u001b[0;34m)\u001b[0m\u001b[0;34m\u001b[0m\u001b[0;34m\u001b[0m\u001b[0m\n\u001b[1;32m      5\u001b[0m \u001b[0mprint\u001b[0m\u001b[0;34m(\u001b[0m\u001b[0;34mf\"Total case count: {all_info[path][0]}\"\u001b[0m\u001b[0;34m)\u001b[0m\u001b[0;34m\u001b[0m\u001b[0;34m\u001b[0m\u001b[0m\n\u001b[0;32m----> 6\u001b[0;31m \u001b[0mplot_dict_pie\u001b[0m\u001b[0;34m(\u001b[0m\u001b[0mall_info\u001b[0m\u001b[0;34m[\u001b[0m\u001b[0mpath\u001b[0m\u001b[0;34m]\u001b[0m\u001b[0;34m[\u001b[0m\u001b[0;36m1\u001b[0m\u001b[0;34m]\u001b[0m\u001b[0;34m)\u001b[0m\u001b[0;34m\u001b[0m\u001b[0;34m\u001b[0m\u001b[0m\n\u001b[0m\u001b[1;32m      7\u001b[0m \u001b[0mplot_dict_pie\u001b[0m\u001b[0;34m(\u001b[0m\u001b[0mall_info\u001b[0m\u001b[0;34m[\u001b[0m\u001b[0mpath\u001b[0m\u001b[0;34m]\u001b[0m\u001b[0;34m[\u001b[0m\u001b[0;36m2\u001b[0m\u001b[0;34m]\u001b[0m\u001b[0;34m)\u001b[0m\u001b[0;34m\u001b[0m\u001b[0;34m\u001b[0m\u001b[0m\n",
      "\u001b[0;32m/var/folders/_8/cqvvyrw50wvdxhfrz9rl6v_00000gn/T/ipykernel_49358/1882642545.py\u001b[0m in \u001b[0;36mplot_dict_pie\u001b[0;34m(d)\u001b[0m\n\u001b[1;32m     10\u001b[0m         \u001b[0msizes\u001b[0m\u001b[0;34m.\u001b[0m\u001b[0mappend\u001b[0m\u001b[0;34m(\u001b[0m\u001b[0my\u001b[0m\u001b[0;34m)\u001b[0m\u001b[0;34m\u001b[0m\u001b[0;34m\u001b[0m\u001b[0m\n\u001b[1;32m     11\u001b[0m \u001b[0;34m\u001b[0m\u001b[0m\n\u001b[0;32m---> 12\u001b[0;31m     \u001b[0mlabels\u001b[0m \u001b[0;34m=\u001b[0m \u001b[0;34m[\u001b[0m\u001b[0;34mf'{l}, {s:0.1f}'\u001b[0m \u001b[0;32mfor\u001b[0m \u001b[0ml\u001b[0m\u001b[0;34m,\u001b[0m \u001b[0ms\u001b[0m \u001b[0;32min\u001b[0m \u001b[0mzip\u001b[0m\u001b[0;34m(\u001b[0m\u001b[0mlabels\u001b[0m\u001b[0;34m,\u001b[0m \u001b[0msizes\u001b[0m\u001b[0;34m)\u001b[0m\u001b[0;34m]\u001b[0m\u001b[0;34m\u001b[0m\u001b[0;34m\u001b[0m\u001b[0m\n\u001b[0m\u001b[1;32m     13\u001b[0m \u001b[0;34m\u001b[0m\u001b[0m\n\u001b[1;32m     14\u001b[0m     \u001b[0;31m# Plot\u001b[0m\u001b[0;34m\u001b[0m\u001b[0;34m\u001b[0m\u001b[0m\n",
      "\u001b[0;32m/var/folders/_8/cqvvyrw50wvdxhfrz9rl6v_00000gn/T/ipykernel_49358/1882642545.py\u001b[0m in \u001b[0;36m<listcomp>\u001b[0;34m(.0)\u001b[0m\n\u001b[1;32m     10\u001b[0m         \u001b[0msizes\u001b[0m\u001b[0;34m.\u001b[0m\u001b[0mappend\u001b[0m\u001b[0;34m(\u001b[0m\u001b[0my\u001b[0m\u001b[0;34m)\u001b[0m\u001b[0;34m\u001b[0m\u001b[0;34m\u001b[0m\u001b[0m\n\u001b[1;32m     11\u001b[0m \u001b[0;34m\u001b[0m\u001b[0m\n\u001b[0;32m---> 12\u001b[0;31m     \u001b[0mlabels\u001b[0m \u001b[0;34m=\u001b[0m \u001b[0;34m[\u001b[0m\u001b[0;34mf'{l}, {s:0.1f}'\u001b[0m \u001b[0;32mfor\u001b[0m \u001b[0ml\u001b[0m\u001b[0;34m,\u001b[0m \u001b[0ms\u001b[0m \u001b[0;32min\u001b[0m \u001b[0mzip\u001b[0m\u001b[0;34m(\u001b[0m\u001b[0mlabels\u001b[0m\u001b[0;34m,\u001b[0m \u001b[0msizes\u001b[0m\u001b[0;34m)\u001b[0m\u001b[0;34m]\u001b[0m\u001b[0;34m\u001b[0m\u001b[0;34m\u001b[0m\u001b[0m\n\u001b[0m\u001b[1;32m     13\u001b[0m \u001b[0;34m\u001b[0m\u001b[0m\n\u001b[1;32m     14\u001b[0m     \u001b[0;31m# Plot\u001b[0m\u001b[0;34m\u001b[0m\u001b[0;34m\u001b[0m\u001b[0m\n",
      "\u001b[0;31mValueError\u001b[0m: Unknown format code 'f' for object of type 'str'"
     ]
    }
   ],
   "source": [
    "###### Analyze each bank info\n",
    "path =\"./data/debt_collector_query_result/Midland_Funding.csv\"\n",
    "\n",
    "print(f\"Company name: {path}\")\n",
    "print(f\"Total case count: {all_info[path][0]}\")\n",
    "plot_dict_pie(all_info[path][1])\n",
    "plot_dict_pie(all_info[path][2])"
   ]
  },
  {
   "cell_type": "code",
   "execution_count": 11,
   "metadata": {},
   "outputs": [
    {
     "name": "stdout",
     "output_type": "stream",
     "text": [
      "Bank name: ./bank_as_plantiff/chase_bank.csv\n"
     ]
    },
    {
     "ename": "KeyError",
     "evalue": "'./bank_as_plantiff/chase_bank.csv'",
     "output_type": "error",
     "traceback": [
      "\u001b[0;31m---------------------------------------------------------------------------\u001b[0m",
      "\u001b[0;31mKeyError\u001b[0m                                  Traceback (most recent call last)",
      "\u001b[0;32m/var/folders/_8/cqvvyrw50wvdxhfrz9rl6v_00000gn/T/ipykernel_49358/2069876148.py\u001b[0m in \u001b[0;36m<module>\u001b[0;34m\u001b[0m\n\u001b[1;32m      2\u001b[0m \u001b[0mpath\u001b[0m \u001b[0;34m=\u001b[0m\u001b[0;34m'./bank_as_plantiff/chase_bank.csv'\u001b[0m\u001b[0;34m\u001b[0m\u001b[0;34m\u001b[0m\u001b[0m\n\u001b[1;32m      3\u001b[0m \u001b[0mprint\u001b[0m\u001b[0;34m(\u001b[0m\u001b[0;34mf\"Bank name: {path}\"\u001b[0m\u001b[0;34m)\u001b[0m\u001b[0;34m\u001b[0m\u001b[0;34m\u001b[0m\u001b[0m\n\u001b[0;32m----> 4\u001b[0;31m \u001b[0mprint\u001b[0m\u001b[0;34m(\u001b[0m\u001b[0mall_info\u001b[0m\u001b[0;34m[\u001b[0m\u001b[0mpath\u001b[0m\u001b[0;34m]\u001b[0m\u001b[0;34m[\u001b[0m\u001b[0;36m3\u001b[0m\u001b[0;34m]\u001b[0m\u001b[0;34m)\u001b[0m\u001b[0;34m\u001b[0m\u001b[0;34m\u001b[0m\u001b[0m\n\u001b[0m\u001b[1;32m      5\u001b[0m \u001b[0;34m\u001b[0m\u001b[0m\n\u001b[1;32m      6\u001b[0m \u001b[0;32mwith\u001b[0m \u001b[0mopen\u001b[0m\u001b[0;34m(\u001b[0m\u001b[0;34m'bank_date.csv'\u001b[0m\u001b[0;34m,\u001b[0m \u001b[0mmode\u001b[0m\u001b[0;34m=\u001b[0m\u001b[0;34m'w'\u001b[0m\u001b[0;34m)\u001b[0m \u001b[0;32mas\u001b[0m \u001b[0mcsv_file\u001b[0m\u001b[0;34m:\u001b[0m\u001b[0;34m\u001b[0m\u001b[0;34m\u001b[0m\u001b[0m\n",
      "\u001b[0;31mKeyError\u001b[0m: './bank_as_plantiff/chase_bank.csv'"
     ]
    }
   ],
   "source": [
    "# Date of case filed\n",
    "path ='./bank_as_plantiff/chase_bank.csv'\n",
    "print(f\"Bank name: {path}\")\n",
    "print(all_info[path][3])\n",
    "\n",
    "with open('bank_date.csv', mode='w') as csv_file:\n",
    "    fieldnames = [\"company_name\", -111] + [i for i in range(2000, 2024)]\n",
    "    writer = csv.DictWriter(csv_file, fieldnames=fieldnames)\n",
    "\n",
    "    writer.writeheader()\n",
    "    for key in all_info.keys():\n",
    "        writer.writerow({**{'company_name': key}, **all_info[key][3]})"
   ]
  },
  {
   "cell_type": "code",
   "execution_count": 12,
   "metadata": {},
   "outputs": [
    {
     "name": "stdout",
     "output_type": "stream",
     "text": [
      "Bank name: ./bank_as_plantiff/chase_bank.csv\n"
     ]
    },
    {
     "ename": "KeyError",
     "evalue": "'./bank_as_plantiff/chase_bank.csv'",
     "output_type": "error",
     "traceback": [
      "\u001b[0;31m---------------------------------------------------------------------------\u001b[0m",
      "\u001b[0;31mKeyError\u001b[0m                                  Traceback (most recent call last)",
      "\u001b[0;32m/var/folders/_8/cqvvyrw50wvdxhfrz9rl6v_00000gn/T/ipykernel_49358/2242883106.py\u001b[0m in \u001b[0;36m<module>\u001b[0;34m\u001b[0m\n\u001b[1;32m      2\u001b[0m \u001b[0mpath\u001b[0m \u001b[0;34m=\u001b[0m\u001b[0;34m'./bank_as_plantiff/chase_bank.csv'\u001b[0m\u001b[0;34m\u001b[0m\u001b[0;34m\u001b[0m\u001b[0m\n\u001b[1;32m      3\u001b[0m \u001b[0mprint\u001b[0m\u001b[0;34m(\u001b[0m\u001b[0;34mf\"Bank name: {path}\"\u001b[0m\u001b[0;34m)\u001b[0m\u001b[0;34m\u001b[0m\u001b[0;34m\u001b[0m\u001b[0m\n\u001b[0;32m----> 4\u001b[0;31m \u001b[0mprint\u001b[0m\u001b[0;34m(\u001b[0m\u001b[0mall_info\u001b[0m\u001b[0;34m[\u001b[0m\u001b[0mpath\u001b[0m\u001b[0;34m]\u001b[0m\u001b[0;34m[\u001b[0m\u001b[0;36m2\u001b[0m\u001b[0;34m]\u001b[0m\u001b[0;34m)\u001b[0m\u001b[0;34m\u001b[0m\u001b[0;34m\u001b[0m\u001b[0m\n\u001b[0m\u001b[1;32m      5\u001b[0m \u001b[0;34m\u001b[0m\u001b[0m\n\u001b[1;32m      6\u001b[0m \u001b[0;32mwith\u001b[0m \u001b[0mopen\u001b[0m\u001b[0;34m(\u001b[0m\u001b[0;34m'bank_case_status.csv'\u001b[0m\u001b[0;34m,\u001b[0m \u001b[0mmode\u001b[0m\u001b[0;34m=\u001b[0m\u001b[0;34m'w'\u001b[0m\u001b[0;34m)\u001b[0m \u001b[0;32mas\u001b[0m \u001b[0mcsv_file\u001b[0m\u001b[0;34m:\u001b[0m\u001b[0;34m\u001b[0m\u001b[0;34m\u001b[0m\u001b[0m\n",
      "\u001b[0;31mKeyError\u001b[0m: './bank_as_plantiff/chase_bank.csv'"
     ]
    }
   ],
   "source": [
    "# Case status\n",
    "path ='./bank_as_plantiff/chase_bank.csv'\n",
    "print(f\"Bank name: {path}\")\n",
    "print(all_info[path][2])\n",
    "\n",
    "with open('bank_case_status.csv', mode='w') as csv_file:\n",
    "    fieldnames = [\"company_name\", \n",
    "                  \"Disposed (Statistical Purposes)\", 'Closed', 'Pending', \n",
    "                  'Closed (Transferred)', 'Open', 'Suspended', 'Active', \n",
    "                  'Covid 19 XXX Notice Issued', 'Reopened', 'Inactive', \n",
    "                  'Suspended Covid 19 extended', 'Suspended- COVID 19-Extend-Notices sent', \n",
    "                  'Suspended-Covid-19', 'Suspended-Notices sent Covid-19', \n",
    "                  'Suspended COVID19 - TBD', 'Suspended - Notices sent Covid-19', '']\n",
    "    writer = csv.DictWriter(csv_file, fieldnames=fieldnames)\n",
    "    writer.writeheader()\n",
    "    for key in all_info.keys():\n",
    "        writer.writerow({**{'company_name': key}, **all_info[key][2]})\n",
    "    "
   ]
  },
  {
   "cell_type": "code",
   "execution_count": 36,
   "metadata": {},
   "outputs": [],
   "source": [
    "# Case duration if the case is closed (or disposed)\n",
    "def analyze_duration(filepath):\n",
    "    total_count = 0\n",
    "    average_duration = 0\n",
    "    durations = []\n",
    "    \n",
    "    with open(filepath, \"r\") as f:\n",
    "        reader = csv.reader(f)\n",
    "        header = next(reader)\n",
    "        \n",
    "        for entry in reader:\n",
    "            if entry[4] in [\"Disposed (Statistical Purposes)\", 'Closed']:\n",
    "                total_count += 1\n",
    "                start_date = datetime.datetime(int(entry[5][:4]), int(entry[5][4:6]), int(entry[5][6:]))\n",
    "                end_date = datetime.datetime(int(entry[6][:4]), int(entry[6][4:6]), int(entry[6][6:]))\n",
    "                \n",
    "                diff_date = end_date - start_date\n",
    "                \n",
    "                durations += [diff_date]\n",
    "                \n",
    "    average_duration = sum(durations, datetime.timedelta(0)) / len(durations)\n",
    "    print(average_duration)\n",
    "    \n",
    "    return durations"
   ]
  },
  {
   "cell_type": "code",
   "execution_count": 49,
   "metadata": {},
   "outputs": [
    {
     "name": "stdout",
     "output_type": "stream",
     "text": [
      "253 days, 0:30:01.762977\n",
      "107 days, 15:30:17.408124\n",
      "243 days, 13:04:38.797531\n",
      "278 days, 19:38:35.923567\n",
      "94 days, 10:57:06.737968\n",
      "739 days, 23:04:36.923077\n",
      "156 days, 3:05:16.930023\n",
      "189 days, 15:38:12.358804\n",
      "198 days, 1:14:27.512195\n",
      "154 days, 20:37:33.108714\n"
     ]
    },
    {
     "data": {
      "image/png": "[encoded data removed]",
      "text/plain": [
       "<Figure size 432x288 with 1 Axes>"
      ]
     },
     "metadata": {
      "needs_background": "light"
     },
     "output_type": "display_data"
    }
   ],
   "source": [
    "for path in csv_dirs:\n",
    "    #print(path)\n",
    "    n_bins = 30\n",
    "    durations = analyze_duration(path)\n",
    "    durations = [t.days for t in durations]\n",
    "    fig= plt.hist(durations,  bins=n_bins)\n",
    "    plt.xlabel('Case Durations (days)')\n",
    "    plt.ylabel('Number of cases')\n",
    "    plt.savefig(path + '.png')\n",
    "    plt.cla()\n"
   ]
  },
  {
   "cell_type": "code",
   "execution_count": 55,
   "metadata": {},
   "outputs": [],
   "source": [
    "# More accurate case date\n",
    "def analyze_starting_date(filepath):\n",
    "    total_count = 0\n",
    "    start_dates = []\n",
    "    \n",
    "    with open(filepath, \"r\") as f:\n",
    "        reader = csv.reader(f)\n",
    "        header = next(reader)\n",
    "        \n",
    "        for entry in reader:\n",
    "            try:\n",
    "                start_date = datetime.datetime(int(entry[5][:4]), int(entry[5][4:6]), int(entry[5][6:]))\n",
    "            except:\n",
    "                continue\n",
    "            total_count += 1\n",
    "            start_dates += [start_date]\n",
    "                \n",
    "    return start_dates"
   ]
  },
  {
   "cell_type": "code",
   "execution_count": 60,
   "metadata": {},
   "outputs": [
    {
     "data": {
      "image/png": "[encoded data removed]",
      "text/plain": [
       "<Figure size 432x288 with 1 Axes>"
      ]
     },
     "metadata": {
      "needs_background": "light"
     },
     "output_type": "display_data"
    },
    {
     "data": {
      "image/png": "[encoded data removed]",
      "text/plain": [
       "<Figure size 432x288 with 1 Axes>"
      ]
     },
     "metadata": {
      "needs_background": "light"
     },
     "output_type": "display_data"
    },
    {
     "data": {
      "image/png": "[encoded data removed]",
      "text/plain": [
       "<Figure size 432x288 with 1 Axes>"
      ]
     },
     "metadata": {
      "needs_background": "light"
     },
     "output_type": "display_data"
    },
    {
     "data": {
      "image/png": "[encoded data removed]",
      "text/plain": [
       "<Figure size 432x288 with 1 Axes>"
      ]
     },
     "metadata": {
      "needs_background": "light"
     },
     "output_type": "display_data"
    },
    {
     "data": {
      "image/png": "[encoded data removed]",
      "text/plain": [
       "<Figure size 432x288 with 1 Axes>"
      ]
     },
     "metadata": {
      "needs_background": "light"
     },
     "output_type": "display_data"
    },
    {
     "data": {
      "image/png": "[encoded data removed]",
      "text/plain": [
       "<Figure size 432x288 with 1 Axes>"
      ]
     },
     "metadata": {
      "needs_background": "light"
     },
     "output_type": "display_data"
    },
    {
     "data": {
      "image/png": "[encoded data removed]",
      "text/plain": [
       "<Figure size 432x288 with 1 Axes>"
      ]
     },
     "metadata": {
      "needs_background": "light"
     },
     "output_type": "display_data"
    },
    {
     "data": {
      "image/png": "[encoded data removed]",
      "text/plain": [
       "<Figure size 432x288 with 1 Axes>"
      ]
     },
     "metadata": {
      "needs_background": "light"
     },
     "output_type": "display_data"
    },
    {
     "data": {
      "image/png": "[encoded data removed]",
      "text/plain": [
       "<Figure size 432x288 with 1 Axes>"
      ]
     },
     "metadata": {
      "needs_background": "light"
     },
     "output_type": "display_data"
    },
    {
     "data": {
      "image/png": "[encoded data removed]",
      "text/plain": [
       "<Figure size 432x288 with 1 Axes>"
      ]
     },
     "metadata": {
      "needs_background": "light"
     },
     "output_type": "display_data"
    }
   ],
   "source": [
    "for path in csv_dirs:\n",
    "    start_dates = analyze_starting_date(path)\n",
    "    \n",
    "    base = datetime.datetime(2005, 2, 1)\n",
    "    n_bins = 100\n",
    "    dates = start_dates\n",
    "    N = len(dates)\n",
    "    \n",
    "    fig, ax = plt.subplots(constrained_layout=True)\n",
    "    locator = mdates.AutoDateLocator()\n",
    "    formatter = mdates.ConciseDateFormatter(locator)\n",
    "    ax.xaxis.set_major_locator(locator)\n",
    "    ax.xaxis.set_major_formatter(formatter)\n",
    "    \n",
    "    ax.hist(dates, bins=n_bins)\n",
    "    ax.set_title(path)\n",
    "    \n",
    "    plt.xlabel('Time')\n",
    "    plt.ylabel('Number of cases')\n",
    "    \n",
    "    plt.savefig(path + '.png')"
   ]
  }
 ],
 "metadata": {
  "kernelspec": {
   "display_name": "Python 3.11.0 64-bit",
   "language": "python",
   "name": "python3"
  },
  "language_info": {
   "codemirror_mode": {
    "name": "ipython",
    "version": 3
   },
   "file_extension": ".py",
   "mimetype": "text/x-python",
   "name": "python",
   "nbconvert_exporter": "python",
   "pygments_lexer": "ipython3",
   "version": "3.11.0"
  },
  "vscode": {
   "interpreter": {
    "hash": "aee8b7b246df8f9039afb4144a1f6fd8d2ca17a180786b69acc140d282b71a49"
   }
  }
 },
 "nbformat": 4,
 "nbformat_minor": 4
}
